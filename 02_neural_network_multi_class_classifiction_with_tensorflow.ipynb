{
  "nbformat": 4,
  "nbformat_minor": 0,
  "metadata": {
    "colab": {
      "provenance": [],
      "authorship_tag": "ABX9TyPMRXK5R9Ocl3jdRU5nwUDJ",
      "include_colab_link": true
    },
    "kernelspec": {
      "name": "python3",
      "display_name": "Python 3"
    },
    "language_info": {
      "name": "python"
    }
  },
  "cells": [
    {
      "cell_type": "markdown",
      "metadata": {
        "id": "view-in-github",
        "colab_type": "text"
      },
      "source": [
        "<a href=\"https://colab.research.google.com/github/deepu718/tensorflow_practice/blob/main/02_neural_network_multi_class_classifiction_with_tensorflow.ipynb\" target=\"_parent\"><img src=\"https://colab.research.google.com/assets/colab-badge.svg\" alt=\"Open In Colab\"/></a>"
      ]
    },
    {
      "cell_type": "markdown",
      "source": [
        "## Working with a larger example (multiclass classifiction)\n",
        "\n",
        "when you have more than two classes as an option, it's known as **multi-class classifcation**.\n",
        "  * This means if you have 3 different classes, it's multi-class classifiction.\n",
        "  * it also means if you have 100 differnet classes, its multi-class classification"
      ],
      "metadata": {
        "id": "evdWd27tzLWZ"
      }
    },
    {
      "cell_type": "code",
      "source": [
        "import tensorflow as tf\n",
        "from tensorflow.keras.datasets import fashion_mnist\n",
        "\n",
        "# The data has already been sorted into training and test sets for us\n",
        "(train_data,train_labels),(test_data,test_labels) = fashion_mnist.load_data()"
      ],
      "metadata": {
        "colab": {
          "base_uri": "https://localhost:8080/"
        },
        "id": "ARPI7vgS0JKJ",
        "outputId": "e07e1cd6-dca5-4355-ff65-5b31c0e88fa7"
      },
      "execution_count": 1,
      "outputs": [
        {
          "output_type": "stream",
          "name": "stdout",
          "text": [
            "Downloading data from https://storage.googleapis.com/tensorflow/tf-keras-datasets/train-labels-idx1-ubyte.gz\n",
            "29515/29515 [==============================] - 0s 0us/step\n",
            "Downloading data from https://storage.googleapis.com/tensorflow/tf-keras-datasets/train-images-idx3-ubyte.gz\n",
            "26421880/26421880 [==============================] - 0s 0us/step\n",
            "Downloading data from https://storage.googleapis.com/tensorflow/tf-keras-datasets/t10k-labels-idx1-ubyte.gz\n",
            "5148/5148 [==============================] - 0s 0us/step\n",
            "Downloading data from https://storage.googleapis.com/tensorflow/tf-keras-datasets/t10k-images-idx3-ubyte.gz\n",
            "4422102/4422102 [==============================] - 0s 0us/step\n"
          ]
        }
      ]
    },
    {
      "cell_type": "code",
      "source": [
        "# show the first training example\n",
        "print(f'Training sample:\\n{train_data[0]}')\n",
        "print(f'Training label:\\n{train_labels[0]}')"
      ],
      "metadata": {
        "colab": {
          "base_uri": "https://localhost:8080/"
        },
        "id": "18LV3C573fLC",
        "outputId": "c6c4e3af-19fe-4ac1-f9a2-9be08c297b32"
      },
      "execution_count": 2,
      "outputs": [
        {
          "output_type": "stream",
          "name": "stdout",
          "text": [
            "Training sample:\n",
            "[[  0   0   0   0   0   0   0   0   0   0   0   0   0   0   0   0   0   0\n",
            "    0   0   0   0   0   0   0   0   0   0]\n",
            " [  0   0   0   0   0   0   0   0   0   0   0   0   0   0   0   0   0   0\n",
            "    0   0   0   0   0   0   0   0   0   0]\n",
            " [  0   0   0   0   0   0   0   0   0   0   0   0   0   0   0   0   0   0\n",
            "    0   0   0   0   0   0   0   0   0   0]\n",
            " [  0   0   0   0   0   0   0   0   0   0   0   0   1   0   0  13  73   0\n",
            "    0   1   4   0   0   0   0   1   1   0]\n",
            " [  0   0   0   0   0   0   0   0   0   0   0   0   3   0  36 136 127  62\n",
            "   54   0   0   0   1   3   4   0   0   3]\n",
            " [  0   0   0   0   0   0   0   0   0   0   0   0   6   0 102 204 176 134\n",
            "  144 123  23   0   0   0   0  12  10   0]\n",
            " [  0   0   0   0   0   0   0   0   0   0   0   0   0   0 155 236 207 178\n",
            "  107 156 161 109  64  23  77 130  72  15]\n",
            " [  0   0   0   0   0   0   0   0   0   0   0   1   0  69 207 223 218 216\n",
            "  216 163 127 121 122 146 141  88 172  66]\n",
            " [  0   0   0   0   0   0   0   0   0   1   1   1   0 200 232 232 233 229\n",
            "  223 223 215 213 164 127 123 196 229   0]\n",
            " [  0   0   0   0   0   0   0   0   0   0   0   0   0 183 225 216 223 228\n",
            "  235 227 224 222 224 221 223 245 173   0]\n",
            " [  0   0   0   0   0   0   0   0   0   0   0   0   0 193 228 218 213 198\n",
            "  180 212 210 211 213 223 220 243 202   0]\n",
            " [  0   0   0   0   0   0   0   0   0   1   3   0  12 219 220 212 218 192\n",
            "  169 227 208 218 224 212 226 197 209  52]\n",
            " [  0   0   0   0   0   0   0   0   0   0   6   0  99 244 222 220 218 203\n",
            "  198 221 215 213 222 220 245 119 167  56]\n",
            " [  0   0   0   0   0   0   0   0   0   4   0   0  55 236 228 230 228 240\n",
            "  232 213 218 223 234 217 217 209  92   0]\n",
            " [  0   0   1   4   6   7   2   0   0   0   0   0 237 226 217 223 222 219\n",
            "  222 221 216 223 229 215 218 255  77   0]\n",
            " [  0   3   0   0   0   0   0   0   0  62 145 204 228 207 213 221 218 208\n",
            "  211 218 224 223 219 215 224 244 159   0]\n",
            " [  0   0   0   0  18  44  82 107 189 228 220 222 217 226 200 205 211 230\n",
            "  224 234 176 188 250 248 233 238 215   0]\n",
            " [  0  57 187 208 224 221 224 208 204 214 208 209 200 159 245 193 206 223\n",
            "  255 255 221 234 221 211 220 232 246   0]\n",
            " [  3 202 228 224 221 211 211 214 205 205 205 220 240  80 150 255 229 221\n",
            "  188 154 191 210 204 209 222 228 225   0]\n",
            " [ 98 233 198 210 222 229 229 234 249 220 194 215 217 241  65  73 106 117\n",
            "  168 219 221 215 217 223 223 224 229  29]\n",
            " [ 75 204 212 204 193 205 211 225 216 185 197 206 198 213 240 195 227 245\n",
            "  239 223 218 212 209 222 220 221 230  67]\n",
            " [ 48 203 183 194 213 197 185 190 194 192 202 214 219 221 220 236 225 216\n",
            "  199 206 186 181 177 172 181 205 206 115]\n",
            " [  0 122 219 193 179 171 183 196 204 210 213 207 211 210 200 196 194 191\n",
            "  195 191 198 192 176 156 167 177 210  92]\n",
            " [  0   0  74 189 212 191 175 172 175 181 185 188 189 188 193 198 204 209\n",
            "  210 210 211 188 188 194 192 216 170   0]\n",
            " [  2   0   0   0  66 200 222 237 239 242 246 243 244 221 220 193 191 179\n",
            "  182 182 181 176 166 168  99  58   0   0]\n",
            " [  0   0   0   0   0   0   0  40  61  44  72  41  35   0   0   0   0   0\n",
            "    0   0   0   0   0   0   0   0   0   0]\n",
            " [  0   0   0   0   0   0   0   0   0   0   0   0   0   0   0   0   0   0\n",
            "    0   0   0   0   0   0   0   0   0   0]\n",
            " [  0   0   0   0   0   0   0   0   0   0   0   0   0   0   0   0   0   0\n",
            "    0   0   0   0   0   0   0   0   0   0]]\n",
            "Training label:\n",
            "9\n"
          ]
        }
      ]
    },
    {
      "cell_type": "code",
      "source": [
        "# Check the shape of a single example\n",
        "train_data[0].shape, train_labels[0].shape"
      ],
      "metadata": {
        "colab": {
          "base_uri": "https://localhost:8080/"
        },
        "id": "5KC_oC3e3yis",
        "outputId": "30a19745-aa79-42f6-ba57-956807969cd2"
      },
      "execution_count": 3,
      "outputs": [
        {
          "output_type": "execute_result",
          "data": {
            "text/plain": [
              "((28, 28), ())"
            ]
          },
          "metadata": {},
          "execution_count": 3
        }
      ]
    },
    {
      "cell_type": "code",
      "source": [
        "# Plot a single sample\n",
        "import matplotlib.pyplot as plt\n",
        "plt.imshow(train_data[7])"
      ],
      "metadata": {
        "colab": {
          "base_uri": "https://localhost:8080/",
          "height": 447
        },
        "id": "da0_dFOE4GeI",
        "outputId": "57d667b8-7844-459e-b075-c8449fdbd9d2"
      },
      "execution_count": 4,
      "outputs": [
        {
          "output_type": "execute_result",
          "data": {
            "text/plain": [
              "<matplotlib.image.AxesImage at 0x7fe21e882ec0>"
            ]
          },
          "metadata": {},
          "execution_count": 4
        },
        {
          "output_type": "display_data",
          "data": {
            "text/plain": [
              "<Figure size 640x480 with 1 Axes>"
            ],
            "image/png": "[encoded data removed]"
          },
          "metadata": {}
        }
      ]
    },
    {
      "cell_type": "code",
      "source": [
        "# Check out the samples label\n",
        "train_labels[7]"
      ],
      "metadata": {
        "colab": {
          "base_uri": "https://localhost:8080/"
        },
        "id": "9RGI81T34WRj",
        "outputId": "52c9feb9-3017-45d1-aab7-6e91aeb79632"
      },
      "execution_count": 5,
      "outputs": [
        {
          "output_type": "execute_result",
          "data": {
            "text/plain": [
              "2"
            ]
          },
          "metadata": {},
          "execution_count": 5
        }
      ]
    },
    {
      "cell_type": "code",
      "source": [
        "# Create a small list so we can index onto our training labels so they are human readable\n",
        "class_names = [\"T-shirt/top\",\"Trouser\",\"Pullover\",\"Dress\",\"Coat\",\"Sandal\",\"Shirt\",\"Sneaker\",\"Bag\",\"Ankle boot\"]\n",
        "\n",
        "len(class_names)"
      ],
      "metadata": {
        "colab": {
          "base_uri": "https://localhost:8080/"
        },
        "id": "whxXbNcw4edd",
        "outputId": "a6d9327f-0830-4087-cd30-c0755bfb62a1"
      },
      "execution_count": 6,
      "outputs": [
        {
          "output_type": "execute_result",
          "data": {
            "text/plain": [
              "10"
            ]
          },
          "metadata": {},
          "execution_count": 6
        }
      ]
    },
    {
      "cell_type": "code",
      "source": [
        "# plot an example image and its label\n",
        "index_of_choice = 17\n",
        "plt.imshow(train_data[index_of_choice],cmap=plt.cm.binary)\n",
        "plt.title(class_names[train_labels[index_of_choice]])"
      ],
      "metadata": {
        "colab": {
          "base_uri": "https://localhost:8080/",
          "height": 469
        },
        "id": "ta2yBIFE5YQm",
        "outputId": "de70a1d7-2373-4d8d-e7aa-f4afb70d3fe1"
      },
      "execution_count": 7,
      "outputs": [
        {
          "output_type": "execute_result",
          "data": {
            "text/plain": [
              "Text(0.5, 1.0, 'T-shirt/top')"
            ]
          },
          "metadata": {},
          "execution_count": 7
        },
        {
          "output_type": "display_data",
          "data": {
            "text/plain": [
              "<Figure size 640x480 with 1 Axes>"
            ],
            "image/png": "[encoded data removed]"
          },
          "metadata": {}
        }
      ]
    },
    {
      "cell_type": "code",
      "source": [
        "# plot multiple random images\n",
        "import random\n",
        "plt.figure(figsize=(7,7))\n",
        "for i in range(4):\n",
        "  ax = plt.subplot(2,2,i+1)\n",
        "  rand_index = random.choice(range(len(train_data)))\n",
        "  plt.imshow(train_data[rand_index],cmap=plt.cm.binary)\n",
        "  plt.title(class_names[train_labels[rand_index]])\n",
        "  plt.axis(False)"
      ],
      "metadata": {
        "colab": {
          "base_uri": "https://localhost:8080/",
          "height": 598
        },
        "id": "NOkieL_Q5vtD",
        "outputId": "5d8a2533-d9a2-4683-afef-d1d5f322a75b"
      },
      "execution_count": 8,
      "outputs": [
        {
          "output_type": "display_data",
          "data": {
            "text/plain": [
              "<Figure size 700x700 with 4 Axes>"
            ],
            "image/png": "[encoded data removed]"
          },
          "metadata": {}
        }
      ]
    },
    {
      "cell_type": "markdown",
      "source": [
        "## Building a multi-class classification model\n",
        "\n",
        "for our multi-class classification model, we can use a similar architechture we can use a similar architechture to our binary classifiers, however we're going to have to tweak few things:\n",
        "  * Input shape = 28 x 28(the shape of one image)\n",
        "  * Output shape = 10(one per class of clothing)\n",
        "  * Loss function = tf.keras.losses.CategoricalCrossentropy()\n",
        "      * if your labels are one_hot encoded use CategoricalCrossentropy.\n",
        "      * if your labels are integers use SparseCategoricalCrossentrpy\n",
        "  * Output layer activation = Softmax"
      ],
      "metadata": {
        "id": "9uVM_oye6hpt"
      }
    },
    {
      "cell_type": "code",
      "source": [
        "# Set the random seed\n",
        "tf.random.set_seed(42)\n",
        "\n",
        "# Create the model\n",
        "model_1 = tf.keras.Sequential([\n",
        "    tf.keras.layers.Flatten(input_shape=(28,28)),\n",
        "    tf.keras.layers.Dense(4,activation=\"relu\"),\n",
        "    tf.keras.layers.Dense(4,activation=\"relu\"),\n",
        "    tf.keras.layers.Dense(10,activation=\"softmax\")\n",
        "])\n",
        "\n",
        "# compile the model\n",
        "model_1.compile(loss=tf.keras.losses.CategoricalCrossentropy(),\n",
        "                optimizer=tf.keras.optimizers.Adam(),\n",
        "                metrics=[\"accuracy\"])\n",
        "\n",
        "# Fit the model\n",
        "non_norm_history = model_1.fit(train_data,tf.one_hot(train_labels,depth=10),epochs=10,validation_data=(test_data,tf.one_hot(test_labels,depth=10)))"
      ],
      "metadata": {
        "colab": {
          "base_uri": "https://localhost:8080/"
        },
        "id": "Y0pdxO_D68VW",
        "outputId": "11457a94-e62c-44ad-e8c9-02b5c570592c"
      },
      "execution_count": 9,
      "outputs": [
        {
          "output_type": "stream",
          "name": "stdout",
          "text": [
            "Epoch 1/10\n",
            "1875/1875 [==============================] - 6s 2ms/step - loss: 2.0115 - accuracy: 0.2707 - val_loss: 1.4809 - val_accuracy: 0.3613\n",
            "Epoch 2/10\n",
            "1875/1875 [==============================] - 4s 2ms/step - loss: 1.3529 - accuracy: 0.4273 - val_loss: 1.2479 - val_accuracy: 0.4917\n",
            "Epoch 3/10\n",
            "1875/1875 [==============================] - 7s 4ms/step - loss: 1.2013 - accuracy: 0.4858 - val_loss: 1.1566 - val_accuracy: 0.5008\n",
            "Epoch 4/10\n",
            "1875/1875 [==============================] - 11s 6ms/step - loss: 1.1236 - accuracy: 0.5098 - val_loss: 1.1032 - val_accuracy: 0.5423\n",
            "Epoch 5/10\n",
            "1875/1875 [==============================] - 9s 5ms/step - loss: 1.0631 - accuracy: 0.5460 - val_loss: 1.0568 - val_accuracy: 0.5836\n",
            "Epoch 6/10\n",
            "1875/1875 [==============================] - 9s 5ms/step - loss: 1.0192 - accuracy: 0.5832 - val_loss: 0.9965 - val_accuracy: 0.5893\n",
            "Epoch 7/10\n",
            "1875/1875 [==============================] - 5s 3ms/step - loss: 0.9876 - accuracy: 0.6017 - val_loss: 0.9929 - val_accuracy: 0.5969\n",
            "Epoch 8/10\n",
            "1875/1875 [==============================] - 5s 3ms/step - loss: 0.9717 - accuracy: 0.6043 - val_loss: 0.9872 - val_accuracy: 0.5815\n",
            "Epoch 9/10\n",
            "1875/1875 [==============================] - 5s 2ms/step - loss: 0.9568 - accuracy: 0.6122 - val_loss: 0.9521 - val_accuracy: 0.6301\n",
            "Epoch 10/10\n",
            "1875/1875 [==============================] - 5s 3ms/step - loss: 0.9336 - accuracy: 0.6211 - val_loss: 0.9381 - val_accuracy: 0.6198\n"
          ]
        }
      ]
    },
    {
      "cell_type": "code",
      "source": [
        "# Check the model summary\n",
        "model_1.summary()"
      ],
      "metadata": {
        "colab": {
          "base_uri": "https://localhost:8080/"
        },
        "id": "Hl5B8ZGG9sH6",
        "outputId": "467efb3b-5011-4dfb-8701-2113204460e7"
      },
      "execution_count": 10,
      "outputs": [
        {
          "output_type": "stream",
          "name": "stdout",
          "text": [
            "Model: \"sequential\"\n",
            "_________________________________________________________________\n",
            " Layer (type)                Output Shape              Param #   \n",
            "=================================================================\n",
            " flatten (Flatten)           (None, 784)               0         \n",
            "                                                                 \n",
            " dense (Dense)               (None, 4)                 3140      \n",
            "                                                                 \n",
            " dense_1 (Dense)             (None, 4)                 20        \n",
            "                                                                 \n",
            " dense_2 (Dense)             (None, 10)                50        \n",
            "                                                                 \n",
            "=================================================================\n",
            "Total params: 3,210\n",
            "Trainable params: 3,210\n",
            "Non-trainable params: 0\n",
            "_________________________________________________________________\n"
          ]
        }
      ]
    },
    {
      "cell_type": "code",
      "source": [
        "# Check the min max values of the training data\n",
        "train_data.min(),train_data.max()"
      ],
      "metadata": {
        "colab": {
          "base_uri": "https://localhost:8080/"
        },
        "id": "riCiobrxBAb-",
        "outputId": "6cb936b4-7cbc-41fa-870d-780b38b873aa"
      },
      "execution_count": 11,
      "outputs": [
        {
          "output_type": "execute_result",
          "data": {
            "text/plain": [
              "(0, 255)"
            ]
          },
          "metadata": {},
          "execution_count": 11
        }
      ]
    },
    {
      "cell_type": "markdown",
      "source": [
        "Neural networks prefer data to be scaled (or normalized), this means they like to have the numbers in the tensors they try to find patterns between 0 & 1"
      ],
      "metadata": {
        "id": "7CBN90nTD5N3"
      }
    },
    {
      "cell_type": "code",
      "source": [
        "# we can get out training data and testing data between 0 & 1 by divdng by the maximum\n",
        "train_data_norm = train_data / 255.0\n",
        "test_data_norm = test_data / 255.0\n",
        "\n",
        "# Check the min and max values of the scaled training data\n",
        "train_data_norm.min(), train_data_norm.max()"
      ],
      "metadata": {
        "colab": {
          "base_uri": "https://localhost:8080/"
        },
        "id": "6DQliUrzELSh",
        "outputId": "f9e0d012-56ef-4307-e02d-ccc085792fde"
      },
      "execution_count": 12,
      "outputs": [
        {
          "output_type": "execute_result",
          "data": {
            "text/plain": [
              "(0.0, 1.0)"
            ]
          },
          "metadata": {},
          "execution_count": 12
        }
      ]
    },
    {
      "cell_type": "code",
      "source": [
        "# Set the random seed\n",
        "tf.random.set_seed(42)\n",
        "\n",
        "# Create the model\n",
        "model_2 = tf.keras.Sequential([\n",
        "    tf.keras.layers.Flatten(input_shape=(28,28)),\n",
        "    tf.keras.layers.Dense(4,activation=\"relu\"),\n",
        "    tf.keras.layers.Dense(4,activation=\"relu\"),\n",
        "    tf.keras.layers.Dense(10,activation=\"softmax\")\n",
        "])\n",
        "\n",
        "# compile the model\n",
        "model_2.compile(loss=tf.keras.losses.CategoricalCrossentropy(),\n",
        "                optimizer=tf.keras.optimizers.Adam(),\n",
        "                metrics=[\"accuracy\"])\n",
        "\n",
        "# Fit the model\n",
        "norm_history = model_2.fit(train_data_norm,\n",
        "                               tf.one_hot(train_labels,depth=10),\n",
        "                               epochs=10,\n",
        "                               validation_data=(test_data_norm,tf.one_hot(test_labels,depth=10)))"
      ],
      "metadata": {
        "colab": {
          "base_uri": "https://localhost:8080/"
        },
        "id": "R6o82Jm2EoIP",
        "outputId": "bc0b275a-238d-4f95-bdec-4f2aaab4e6f5"
      },
      "execution_count": 13,
      "outputs": [
        {
          "output_type": "stream",
          "name": "stdout",
          "text": [
            "Epoch 1/10\n",
            "1875/1875 [==============================] - 6s 3ms/step - loss: 1.5723 - accuracy: 0.3986 - val_loss: 1.2055 - val_accuracy: 0.5553\n",
            "Epoch 2/10\n",
            "1875/1875 [==============================] - 4s 2ms/step - loss: 1.1091 - accuracy: 0.5800 - val_loss: 1.0447 - val_accuracy: 0.6091\n",
            "Epoch 3/10\n",
            "1875/1875 [==============================] - 5s 2ms/step - loss: 0.9685 - accuracy: 0.6396 - val_loss: 0.8800 - val_accuracy: 0.6928\n",
            "Epoch 4/10\n",
            "1875/1875 [==============================] - 5s 3ms/step - loss: 0.8083 - accuracy: 0.7153 - val_loss: 0.7896 - val_accuracy: 0.7201\n",
            "Epoch 5/10\n",
            "1875/1875 [==============================] - 5s 2ms/step - loss: 0.7535 - accuracy: 0.7324 - val_loss: 0.7719 - val_accuracy: 0.7253\n",
            "Epoch 6/10\n",
            "1875/1875 [==============================] - 5s 3ms/step - loss: 0.7249 - accuracy: 0.7412 - val_loss: 0.7826 - val_accuracy: 0.7156\n",
            "Epoch 7/10\n",
            "1875/1875 [==============================] - 5s 2ms/step - loss: 0.7074 - accuracy: 0.7455 - val_loss: 0.7242 - val_accuracy: 0.7439\n",
            "Epoch 8/10\n",
            "1875/1875 [==============================] - 4s 2ms/step - loss: 0.6802 - accuracy: 0.7552 - val_loss: 0.6927 - val_accuracy: 0.7518\n",
            "Epoch 9/10\n",
            "1875/1875 [==============================] - 5s 3ms/step - loss: 0.6496 - accuracy: 0.7627 - val_loss: 0.6737 - val_accuracy: 0.7599\n",
            "Epoch 10/10\n",
            "1875/1875 [==============================] - 5s 2ms/step - loss: 0.6357 - accuracy: 0.7635 - val_loss: 0.6936 - val_accuracy: 0.7479\n"
          ]
        }
      ]
    },
    {
      "cell_type": "code",
      "source": [
        "import pandas as pd\n",
        "# plot the non norm data loss curves\n",
        "pd.DataFrame(non_norm_history.history).plot(title=\"Non_normalized data\")\n",
        "pd.DataFrame(norm_history.history).plot(title=\"normalized data\")\n"
      ],
      "metadata": {
        "colab": {
          "base_uri": "https://localhost:8080/",
          "height": 904
        },
        "id": "KsVrI4itFOvS",
        "outputId": "5fdbd4f7-e238-4d62-b0b2-233459edae99"
      },
      "execution_count": 14,
      "outputs": [
        {
          "output_type": "execute_result",
          "data": {
            "text/plain": [
              "<Axes: title={'center': 'normalized data'}>"
            ]
          },
          "metadata": {},
          "execution_count": 14
        },
        {
          "output_type": "display_data",
          "data": {
            "text/plain": [
              "<Figure size 640x480 with 1 Axes>"
            ],
            "image/png": "[encoded data removed]"
          },
          "metadata": {}
        },
        {
          "output_type": "display_data",
          "data": {
            "text/plain": [
              "<Figure size 640x480 with 1 Axes>"
            ],
            "image/png": "[encoded data removed]"
          },
          "metadata": {}
        }
      ]
    },
    {
      "cell_type": "code",
      "source": [
        "# Set the random seed\n",
        "tf.random.set_seed(42)\n",
        "\n",
        "# Create the model\n",
        "model_3 = tf.keras.Sequential([\n",
        "    tf.keras.layers.Flatten(input_shape=(28,28)),\n",
        "    tf.keras.layers.Dense(4,activation=\"relu\"),\n",
        "    tf.keras.layers.Dense(4,activation=\"relu\"),\n",
        "    tf.keras.layers.Dense(10,activation=\"softmax\")\n",
        "])\n",
        "\n",
        "# compile the model\n",
        "model_3.compile(loss=tf.keras.losses.CategoricalCrossentropy(),\n",
        "                optimizer=tf.keras.optimizers.Adam(),\n",
        "                metrics=[\"accuracy\"])\n",
        "# Create the learing rate callback\n",
        "lr_scheduler = tf.keras.callbacks.LearningRateScheduler(lambda epoch: 1e-3 * 10**(epoch/20))\n",
        "# Fit the model\n",
        "find_lr_history = model_3.fit(train_data_norm,\n",
        "                               tf.one_hot(train_labels,depth=10),\n",
        "                               epochs=40,\n",
        "                               validation_data=(test_data_norm,tf.one_hot(test_labels,depth=10)),\n",
        "                           callbacks=[lr_scheduler])"
      ],
      "metadata": {
        "colab": {
          "base_uri": "https://localhost:8080/"
        },
        "id": "Lu9Ag8DiGKEC",
        "outputId": "920c72f3-bf2d-4815-ba69-562805ab53fd"
      },
      "execution_count": 15,
      "outputs": [
        {
          "output_type": "stream",
          "name": "stdout",
          "text": [
            "Epoch 1/40\n",
            "1875/1875 [==============================] - 6s 3ms/step - loss: 1.2212 - accuracy: 0.5875 - val_loss: 0.8464 - val_accuracy: 0.7354 - lr: 0.0010\n",
            "Epoch 2/40\n",
            "1875/1875 [==============================] - 6s 3ms/step - loss: 0.7440 - accuracy: 0.7525 - val_loss: 0.7074 - val_accuracy: 0.7591 - lr: 0.0011\n",
            "Epoch 3/40\n",
            "1875/1875 [==============================] - 5s 2ms/step - loss: 0.6456 - accuracy: 0.7710 - val_loss: 0.6579 - val_accuracy: 0.7595 - lr: 0.0013\n",
            "Epoch 4/40\n",
            "1875/1875 [==============================] - 6s 3ms/step - loss: 0.6030 - accuracy: 0.7815 - val_loss: 0.6179 - val_accuracy: 0.7797 - lr: 0.0014\n",
            "Epoch 5/40\n",
            "1875/1875 [==============================] - 4s 2ms/step - loss: 0.5810 - accuracy: 0.7879 - val_loss: 0.6179 - val_accuracy: 0.7716 - lr: 0.0016\n",
            "Epoch 6/40\n",
            "1875/1875 [==============================] - 5s 3ms/step - loss: 0.5667 - accuracy: 0.7907 - val_loss: 0.5791 - val_accuracy: 0.7904 - lr: 0.0018\n",
            "Epoch 7/40\n",
            "1875/1875 [==============================] - 5s 3ms/step - loss: 0.5561 - accuracy: 0.7942 - val_loss: 0.5930 - val_accuracy: 0.7863 - lr: 0.0020\n",
            "Epoch 8/40\n",
            "1875/1875 [==============================] - 5s 2ms/step - loss: 0.5487 - accuracy: 0.7943 - val_loss: 0.5658 - val_accuracy: 0.7948 - lr: 0.0022\n",
            "Epoch 9/40\n",
            "1875/1875 [==============================] - 5s 3ms/step - loss: 0.5437 - accuracy: 0.7990 - val_loss: 0.5574 - val_accuracy: 0.7978 - lr: 0.0025\n",
            "Epoch 10/40\n",
            "1875/1875 [==============================] - 4s 2ms/step - loss: 0.5416 - accuracy: 0.7986 - val_loss: 0.5577 - val_accuracy: 0.7946 - lr: 0.0028\n",
            "Epoch 11/40\n",
            "1875/1875 [==============================] - 4s 2ms/step - loss: 0.5349 - accuracy: 0.8051 - val_loss: 0.5593 - val_accuracy: 0.7972 - lr: 0.0032\n",
            "Epoch 12/40\n",
            "1875/1875 [==============================] - 5s 3ms/step - loss: 0.5275 - accuracy: 0.8132 - val_loss: 0.5678 - val_accuracy: 0.8012 - lr: 0.0035\n",
            "Epoch 13/40\n",
            "1875/1875 [==============================] - 5s 2ms/step - loss: 0.5245 - accuracy: 0.8168 - val_loss: 0.5474 - val_accuracy: 0.8075 - lr: 0.0040\n",
            "Epoch 14/40\n",
            "1875/1875 [==============================] - 4s 2ms/step - loss: 0.5243 - accuracy: 0.8176 - val_loss: 0.5702 - val_accuracy: 0.8026 - lr: 0.0045\n",
            "Epoch 15/40\n",
            "1875/1875 [==============================] - 5s 3ms/step - loss: 0.5251 - accuracy: 0.8158 - val_loss: 0.5870 - val_accuracy: 0.7954 - lr: 0.0050\n",
            "Epoch 16/40\n",
            "1875/1875 [==============================] - 4s 2ms/step - loss: 0.5277 - accuracy: 0.8159 - val_loss: 0.5422 - val_accuracy: 0.8102 - lr: 0.0056\n",
            "Epoch 17/40\n",
            "1875/1875 [==============================] - 5s 3ms/step - loss: 0.5275 - accuracy: 0.8146 - val_loss: 0.6039 - val_accuracy: 0.7861 - lr: 0.0063\n",
            "Epoch 18/40\n",
            "1875/1875 [==============================] - 5s 3ms/step - loss: 0.5315 - accuracy: 0.8151 - val_loss: 0.5716 - val_accuracy: 0.7979 - lr: 0.0071\n",
            "Epoch 19/40\n",
            "1875/1875 [==============================] - 5s 2ms/step - loss: 0.5322 - accuracy: 0.8144 - val_loss: 0.5564 - val_accuracy: 0.8050 - lr: 0.0079\n",
            "Epoch 20/40\n",
            "1875/1875 [==============================] - 6s 3ms/step - loss: 0.5382 - accuracy: 0.8124 - val_loss: 0.5711 - val_accuracy: 0.7963 - lr: 0.0089\n",
            "Epoch 21/40\n",
            "1875/1875 [==============================] - 5s 2ms/step - loss: 0.5378 - accuracy: 0.8126 - val_loss: 0.5502 - val_accuracy: 0.8094 - lr: 0.0100\n",
            "Epoch 22/40\n",
            "1875/1875 [==============================] - 5s 3ms/step - loss: 0.5450 - accuracy: 0.8090 - val_loss: 0.6250 - val_accuracy: 0.7796 - lr: 0.0112\n",
            "Epoch 23/40\n",
            "1875/1875 [==============================] - 5s 3ms/step - loss: 0.5487 - accuracy: 0.8075 - val_loss: 0.5855 - val_accuracy: 0.8040 - lr: 0.0126\n",
            "Epoch 24/40\n",
            "1875/1875 [==============================] - 5s 3ms/step - loss: 0.5588 - accuracy: 0.8054 - val_loss: 0.6063 - val_accuracy: 0.8004 - lr: 0.0141\n",
            "Epoch 25/40\n",
            "1875/1875 [==============================] - 6s 3ms/step - loss: 0.5680 - accuracy: 0.8031 - val_loss: 0.5783 - val_accuracy: 0.8052 - lr: 0.0158\n",
            "Epoch 26/40\n",
            "1875/1875 [==============================] - 5s 2ms/step - loss: 0.5798 - accuracy: 0.7997 - val_loss: 0.6733 - val_accuracy: 0.7763 - lr: 0.0178\n",
            "Epoch 27/40\n",
            "1875/1875 [==============================] - 5s 3ms/step - loss: 0.6031 - accuracy: 0.7916 - val_loss: 0.6628 - val_accuracy: 0.7844 - lr: 0.0200\n",
            "Epoch 28/40\n",
            "1875/1875 [==============================] - 5s 3ms/step - loss: 0.6058 - accuracy: 0.7927 - val_loss: 0.6500 - val_accuracy: 0.7887 - lr: 0.0224\n",
            "Epoch 29/40\n",
            "1875/1875 [==============================] - 4s 2ms/step - loss: 0.6283 - accuracy: 0.7853 - val_loss: 0.6841 - val_accuracy: 0.7712 - lr: 0.0251\n",
            "Epoch 30/40\n",
            "1875/1875 [==============================] - 5s 3ms/step - loss: 0.6497 - accuracy: 0.7796 - val_loss: 0.6784 - val_accuracy: 0.7677 - lr: 0.0282\n",
            "Epoch 31/40\n",
            "1875/1875 [==============================] - 4s 2ms/step - loss: 0.6726 - accuracy: 0.7731 - val_loss: 0.8347 - val_accuracy: 0.7320 - lr: 0.0316\n",
            "Epoch 32/40\n",
            "1875/1875 [==============================] - 4s 2ms/step - loss: 0.7153 - accuracy: 0.7575 - val_loss: 0.6946 - val_accuracy: 0.7801 - lr: 0.0355\n",
            "Epoch 33/40\n",
            "1875/1875 [==============================] - 6s 3ms/step - loss: 0.7539 - accuracy: 0.7472 - val_loss: 0.8224 - val_accuracy: 0.7635 - lr: 0.0398\n",
            "Epoch 34/40\n",
            "1875/1875 [==============================] - 4s 2ms/step - loss: 0.8076 - accuracy: 0.7275 - val_loss: 0.8418 - val_accuracy: 0.7063 - lr: 0.0447\n",
            "Epoch 35/40\n",
            "1875/1875 [==============================] - 4s 2ms/step - loss: 0.9155 - accuracy: 0.6760 - val_loss: 0.8379 - val_accuracy: 0.6988 - lr: 0.0501\n",
            "Epoch 36/40\n",
            "1875/1875 [==============================] - 5s 3ms/step - loss: 0.9136 - accuracy: 0.6843 - val_loss: 1.3247 - val_accuracy: 0.5965 - lr: 0.0562\n",
            "Epoch 37/40\n",
            "1875/1875 [==============================] - 5s 2ms/step - loss: 1.0890 - accuracy: 0.5647 - val_loss: 1.1361 - val_accuracy: 0.5731 - lr: 0.0631\n",
            "Epoch 38/40\n",
            "1875/1875 [==============================] - 6s 3ms/step - loss: 1.2798 - accuracy: 0.4470 - val_loss: 1.2661 - val_accuracy: 0.4188 - lr: 0.0708\n",
            "Epoch 39/40\n",
            "1875/1875 [==============================] - 5s 2ms/step - loss: 1.3485 - accuracy: 0.3962 - val_loss: 1.8242 - val_accuracy: 0.3316 - lr: 0.0794\n",
            "Epoch 40/40\n",
            "1875/1875 [==============================] - 4s 2ms/step - loss: 1.6721 - accuracy: 0.2878 - val_loss: 1.7637 - val_accuracy: 0.1985 - lr: 0.0891\n"
          ]
        }
      ]
    },
    {
      "cell_type": "code",
      "source": [
        "# PLot the learning rate decay curve\n",
        "import numpy as np\n",
        "import matplotlib.pyplot as plt\n",
        "\n",
        "lrs = 1e-3 * (10**(tf.range(40)/20))\n",
        "plt.semilogx(lrs,find_lr_history.history[\"loss\"])\n",
        "plt.xlabel(\"Learning rate\")\n",
        "plt.ylabel(\"Loss\")\n",
        "plt.title(\"Finding the ideal learning rate\");"
      ],
      "metadata": {
        "colab": {
          "base_uri": "https://localhost:8080/",
          "height": 476
        },
        "id": "T4JMhSpTHWAt",
        "outputId": "ba7d8674-ca51-4ceb-d860-fa942fe0fc78"
      },
      "execution_count": 16,
      "outputs": [
        {
          "output_type": "display_data",
          "data": {
            "text/plain": [
              "<Figure size 640x480 with 1 Axes>"
            ],
            "image/png": "[encoded data removed]"
          },
          "metadata": {}
        }
      ]
    },
    {
      "cell_type": "code",
      "source": [
        "# Let's refit a model with the ideal learing rate\n",
        "\n",
        "# Set the random seed\n",
        "tf.random.set_seed(42)\n",
        "\n",
        "# Create the model\n",
        "model_4 = tf.keras.Sequential([\n",
        "    tf.keras.layers.Flatten(input_shape=(28,28)),\n",
        "    tf.keras.layers.Dense(4,activation=\"relu\"),\n",
        "    tf.keras.layers.Dense(4,activation=\"relu\"),\n",
        "    tf.keras.layers.Dense(10,activation=\"softmax\")\n",
        "])\n",
        "\n",
        "# compile the model\n",
        "model_4.compile(loss=tf.keras.losses.CategoricalCrossentropy(),\n",
        "                optimizer=tf.keras.optimizers.Adam(lr=0.001),\n",
        "                metrics=[\"accuracy\"])\n",
        "\n",
        "# Fit the model\n",
        "history_4 = model_4.fit(train_data_norm,\n",
        "                               tf.one_hot(train_labels,depth=10),\n",
        "                               epochs=20,\n",
        "                               validation_data=(test_data_norm,tf.one_hot(test_labels,depth=10)))"
      ],
      "metadata": {
        "colab": {
          "base_uri": "https://localhost:8080/"
        },
        "id": "a3I07_L6JOe1",
        "outputId": "6b7cea64-1dc2-48ac-a426-97f0f2daa633"
      },
      "execution_count": 17,
      "outputs": [
        {
          "output_type": "stream",
          "name": "stderr",
          "text": [
            "WARNING:absl:`lr` is deprecated in Keras optimizer, please use `learning_rate` or use the legacy optimizer, e.g.,tf.keras.optimizers.legacy.Adam.\n"
          ]
        },
        {
          "output_type": "stream",
          "name": "stdout",
          "text": [
            "Epoch 1/20\n",
            "1875/1875 [==============================] - 6s 3ms/step - loss: 1.1829 - accuracy: 0.5952 - val_loss: 0.8949 - val_accuracy: 0.7212\n",
            "Epoch 2/20\n",
            "1875/1875 [==============================] - 5s 2ms/step - loss: 0.7825 - accuracy: 0.7530 - val_loss: 0.7454 - val_accuracy: 0.7631\n",
            "Epoch 3/20\n",
            "1875/1875 [==============================] - 6s 3ms/step - loss: 0.6757 - accuracy: 0.7774 - val_loss: 0.6809 - val_accuracy: 0.7690\n",
            "Epoch 4/20\n",
            "1875/1875 [==============================] - 5s 2ms/step - loss: 0.6268 - accuracy: 0.7890 - val_loss: 0.6449 - val_accuracy: 0.7790\n",
            "Epoch 5/20\n",
            "1875/1875 [==============================] - 4s 2ms/step - loss: 0.6046 - accuracy: 0.7952 - val_loss: 0.6378 - val_accuracy: 0.7832\n",
            "Epoch 6/20\n",
            "1875/1875 [==============================] - 5s 3ms/step - loss: 0.5901 - accuracy: 0.7983 - val_loss: 0.6276 - val_accuracy: 0.7895\n",
            "Epoch 7/20\n",
            "1875/1875 [==============================] - 4s 2ms/step - loss: 0.5777 - accuracy: 0.8024 - val_loss: 0.6530 - val_accuracy: 0.7674\n",
            "Epoch 8/20\n",
            "1875/1875 [==============================] - 5s 3ms/step - loss: 0.5687 - accuracy: 0.8061 - val_loss: 0.6093 - val_accuracy: 0.7965\n",
            "Epoch 9/20\n",
            "1875/1875 [==============================] - 5s 3ms/step - loss: 0.5608 - accuracy: 0.8077 - val_loss: 0.5961 - val_accuracy: 0.7934\n",
            "Epoch 10/20\n",
            "1875/1875 [==============================] - 4s 2ms/step - loss: 0.5557 - accuracy: 0.8099 - val_loss: 0.5932 - val_accuracy: 0.7980\n",
            "Epoch 11/20\n",
            "1875/1875 [==============================] - 5s 3ms/step - loss: 0.5491 - accuracy: 0.8118 - val_loss: 0.5839 - val_accuracy: 0.8001\n",
            "Epoch 12/20\n",
            "1875/1875 [==============================] - 4s 2ms/step - loss: 0.5441 - accuracy: 0.8127 - val_loss: 0.5834 - val_accuracy: 0.7991\n",
            "Epoch 13/20\n",
            "1875/1875 [==============================] - 4s 2ms/step - loss: 0.5396 - accuracy: 0.8148 - val_loss: 0.5967 - val_accuracy: 0.7967\n",
            "Epoch 14/20\n",
            "1875/1875 [==============================] - 5s 3ms/step - loss: 0.5364 - accuracy: 0.8159 - val_loss: 0.5761 - val_accuracy: 0.8040\n",
            "Epoch 15/20\n",
            "1875/1875 [==============================] - 5s 2ms/step - loss: 0.5317 - accuracy: 0.8168 - val_loss: 0.5832 - val_accuracy: 0.8023\n",
            "Epoch 16/20\n",
            "1875/1875 [==============================] - 5s 2ms/step - loss: 0.5284 - accuracy: 0.8192 - val_loss: 0.5764 - val_accuracy: 0.8057\n",
            "Epoch 17/20\n",
            "1875/1875 [==============================] - 5s 3ms/step - loss: 0.5245 - accuracy: 0.8195 - val_loss: 0.5679 - val_accuracy: 0.8080\n",
            "Epoch 18/20\n",
            "1875/1875 [==============================] - 4s 2ms/step - loss: 0.5225 - accuracy: 0.8195 - val_loss: 0.5717 - val_accuracy: 0.8047\n",
            "Epoch 19/20\n",
            "1875/1875 [==============================] - 5s 3ms/step - loss: 0.5202 - accuracy: 0.8202 - val_loss: 0.5689 - val_accuracy: 0.8054\n",
            "Epoch 20/20\n",
            "1875/1875 [==============================] - 5s 2ms/step - loss: 0.5169 - accuracy: 0.8211 - val_loss: 0.5682 - val_accuracy: 0.8076\n"
          ]
        }
      ]
    },
    {
      "cell_type": "markdown",
      "source": [
        "from tensorflow.python.util.dispatch import register_unary_elementwise_api\n",
        "## Evaluating our multi class classification model\n",
        "\n",
        "To evluate our multi class classification model we could:\n",
        "* Evaluate its performance using other classification metrics.\n",
        "* Asses some of the its predictions\n",
        "* Improve its results\n",
        "* Save and export it for later use"
      ],
      "metadata": {
        "id": "KU1y3xl3XL2q"
      }
    },
    {
      "cell_type": "code",
      "source": [
        "# Create aconfusion matrix\n",
        "\n",
        "import itertools\n",
        "from sklearn.metrics import confusion_matrix\n",
        "\n",
        "def make_confusion_matrix(y_true,y_preds,classes=None,figsize = (10,10),text_size=15):\n",
        "  # Create the confusion matrrix\n",
        "  cm = confusion_matrix(y_true, tf.round(y_preds))\n",
        "  cm_norm = cm.astype(\"float\") / cm.sum(axis=1)[:,np.newaxis]\n",
        "  n_classes = cm.shape[0]\n",
        "\n",
        "  # Let's prettify it\n",
        "  fig, ax = plt.subplots(figsize=figsize)\n",
        "  # create a matrix plot\n",
        "  cax = ax.matshow(cm,cmap=plt.cm.Blues)\n",
        "  fig.colorbar(cax)\n",
        "\n",
        "  # Create classes\n",
        "  if classes:\n",
        "    labels=classes\n",
        "  else:\n",
        "    labels = np.arange(cm.shape[0])\n",
        "\n",
        "  # Label the axes\n",
        "  ax.set(title=\"Confusion matrix\",\n",
        "        xlabel=\"Predicted Label\",\n",
        "        ylabel=\"True label\",\n",
        "        xticks = np.arange(n_classes),\n",
        "        yticks=np.arange(n_classes),\n",
        "        xticklabels=labels,\n",
        "        yticklabels=labels)\n",
        "  # Set x-axis label to bottom\n",
        "  ax.xaxis.set_label_position(\"bottom\")\n",
        "  ax.xaxis.tick_bottom()\n",
        "\n",
        "  # Adjust label size\n",
        "  ax.yaxis.label.set_size(text_size)\n",
        "  ax.xaxis.label.set_size(text_size)\n",
        "  ax.title.set_size(text_size)\n",
        "  # Set threshold for different colors\n",
        "  threshold = (cm.max() + cm.min()) / 2.\n",
        "\n",
        "  # Plot the text on each cell\n",
        "  for i, j in itertools.product(range(cm.shape[0]), range(cm.shape[1])):\n",
        "    plt.text(j,i,f\"{cm[i,j]} ({cm_norm[i,j]*100:.1f}%)\",\n",
        "            horizontalalignment=\"center\",\n",
        "            color=\"white\" if cm[i,j] > threshold else \"black\",\n",
        "            size=text_size)"
      ],
      "metadata": {
        "id": "AIlkxGVOmN5K"
      },
      "execution_count": 20,
      "outputs": []
    },
    {
      "cell_type": "code",
      "source": [
        "class_names"
      ],
      "metadata": {
        "id": "6TXKpt5IoDq6",
        "outputId": "104c5cc2-d37d-40e9-f8d8-d8f33712f8b7",
        "colab": {
          "base_uri": "https://localhost:8080/"
        }
      },
      "execution_count": 21,
      "outputs": [
        {
          "output_type": "execute_result",
          "data": {
            "text/plain": [
              "['T-shirt/top',\n",
              " 'Trouser',\n",
              " 'Pullover',\n",
              " 'Dress',\n",
              " 'Coat',\n",
              " 'Sandal',\n",
              " 'Shirt',\n",
              " 'Sneaker',\n",
              " 'Bag',\n",
              " 'Ankle boot']"
            ]
          },
          "metadata": {},
          "execution_count": 21
        }
      ]
    },
    {
      "cell_type": "code",
      "source": [
        "# Make some predictions with our model\n",
        "y_probs = model_4.predict(test_data_norm)\n",
        "y_probs[:5]"
      ],
      "metadata": {
        "id": "ZFlkB0BloROp",
        "outputId": "b69e18fb-c7fb-4254-8756-06207f64dc8a",
        "colab": {
          "base_uri": "https://localhost:8080/"
        }
      },
      "execution_count": 25,
      "outputs": [
        {
          "output_type": "stream",
          "name": "stdout",
          "text": [
            "313/313 [==============================] - 1s 2ms/step\n"
          ]
        },
        {
          "output_type": "execute_result",
          "data": {
            "text/plain": [
              "array([[5.41782219e-06, 3.45441755e-08, 1.27229187e-05, 3.03283532e-09,\n",
              "        5.10545883e-10, 8.76011848e-02, 8.47320578e-08, 2.82569826e-01,\n",
              "        3.20808068e-02, 5.97729862e-01],\n",
              "       [1.74237084e-05, 3.47627331e-12, 9.37960207e-01, 3.08857140e-09,\n",
              "        4.18149447e-03, 3.71522574e-16, 3.55565883e-02, 1.09157466e-29,\n",
              "        2.22841911e-02, 2.13880449e-23],\n",
              "       [2.72308197e-03, 9.66475368e-01, 1.03280519e-03, 1.62465088e-02,\n",
              "        8.31344165e-04, 1.47183426e-03, 1.46630593e-03, 7.42444536e-03,\n",
              "        2.03359663e-03, 2.94618512e-04],\n",
              "       [2.72308197e-03, 9.66475368e-01, 1.03280519e-03, 1.62465088e-02,\n",
              "        8.31344165e-04, 1.47183426e-03, 1.46630593e-03, 7.42444536e-03,\n",
              "        2.03359663e-03, 2.94618512e-04],\n",
              "       [1.12503670e-01, 9.87005114e-05, 2.40028530e-01, 1.57891475e-02,\n",
              "        3.10607255e-02, 4.96676336e-08, 5.94797432e-01, 6.94916968e-15,\n",
              "        5.72162215e-03, 6.50076867e-11]], dtype=float32)"
            ]
          },
          "metadata": {},
          "execution_count": 25
        }
      ]
    },
    {
      "cell_type": "code",
      "source": [
        "test_labels"
      ],
      "metadata": {
        "id": "hdWkoKHyoJZL",
        "outputId": "f96b4217-b67c-4b45-8375-ad8e7aae34da",
        "colab": {
          "base_uri": "https://localhost:8080/"
        }
      },
      "execution_count": 22,
      "outputs": [
        {
          "output_type": "execute_result",
          "data": {
            "text/plain": [
              "array([9, 2, 1, ..., 8, 1, 5], dtype=uint8)"
            ]
          },
          "metadata": {},
          "execution_count": 22
        }
      ]
    },
    {
      "cell_type": "code",
      "source": [],
      "metadata": {
        "id": "khQTU55poO_e"
      },
      "execution_count": null,
      "outputs": []
    }
  ]
}