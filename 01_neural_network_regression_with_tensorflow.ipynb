{
  "nbformat": 4,
  "nbformat_minor": 0,
  "metadata": {
    "colab": {
      "provenance": [],
      "authorship_tag": "ABX9TyNdznAtl1TBZgyXgUyv25VE",
      "include_colab_link": true
    },
    "kernelspec": {
      "name": "python3",
      "display_name": "Python 3"
    },
    "language_info": {
      "name": "python"
    }
  },
  "cells": [
    {
      "cell_type": "markdown",
      "metadata": {
        "id": "view-in-github",
        "colab_type": "text"
      },
      "source": [
        "<a href=\"https://colab.research.google.com/github/deepu718/tensorflow_practice/blob/main/01_neural_network_regression_with_tensorflow.ipynb\" target=\"_parent\"><img src=\"https://colab.research.google.com/assets/colab-badge.svg\" alt=\"Open In Colab\"/></a>"
      ]
    },
    {
      "cell_type": "markdown",
      "source": [
        "### Intrroduction to Regression with Neural Networks in Tensorflow\n",
        "\n",
        "There are many definations for a regression problem but in our case , we're going to simplify it: predicting numerical variable based on some other combination of variables, even shorter... predicting a number."
      ],
      "metadata": {
        "id": "_GkVwmB8PzmO"
      }
    },
    {
      "cell_type": "code",
      "source": [
        "import tensorflow as tf\n",
        "print(tf.__version__)"
      ],
      "metadata": {
        "colab": {
          "base_uri": "https://localhost:8080/"
        },
        "id": "pdJFBaDfWS5p",
        "outputId": "bdab9aa2-3a7e-4575-87c5-cc57a9e46437"
      },
      "execution_count": 1,
      "outputs": [
        {
          "output_type": "stream",
          "name": "stdout",
          "text": [
            "2.12.0\n"
          ]
        }
      ]
    },
    {
      "cell_type": "markdown",
      "source": [
        "## Creating some data to view and fit"
      ],
      "metadata": {
        "id": "y_-6dFu1WhqE"
      }
    },
    {
      "cell_type": "code",
      "source": [
        "import numpy as np\n",
        "import matplotlib.pyplot as plt\n",
        "\n",
        "# create features\n",
        "X = np.array([-7.0,-4.0,-1.0,2.0,5.0,8.0,11.0,14.0])\n",
        "\n",
        "# create labels\n",
        "y = np.array([3.0,6.0,9.0,12.0,15.0,18.0,21.0,24.0])\n",
        "\n",
        "# visualize it\n",
        "plt.scatter(X,y);"
      ],
      "metadata": {
        "colab": {
          "base_uri": "https://localhost:8080/",
          "height": 435
        },
        "id": "-BuK8XcmWqE2",
        "outputId": "ff4b1845-71c2-487c-9247-9d1b8701ccd4"
      },
      "execution_count": 2,
      "outputs": [
        {
          "output_type": "display_data",
          "data": {
            "text/plain": [
              "<Figure size 640x480 with 1 Axes>"
            ],
            "image/png": "[encoded data removed]"
          },
          "metadata": {}
        }
      ]
    },
    {
      "cell_type": "code",
      "source": [
        "y == X + 10"
      ],
      "metadata": {
        "colab": {
          "base_uri": "https://localhost:8080/"
        },
        "id": "y8XR29FyXT5X",
        "outputId": "959934f1-c27f-4098-c2d0-f143b2a2bec0"
      },
      "execution_count": 3,
      "outputs": [
        {
          "output_type": "execute_result",
          "data": {
            "text/plain": [
              "array([ True,  True,  True,  True,  True,  True,  True,  True])"
            ]
          },
          "metadata": {},
          "execution_count": 3
        }
      ]
    },
    {
      "cell_type": "markdown",
      "source": [
        "## Input ans output shape"
      ],
      "metadata": {
        "id": "i-VoG-7vXgx-"
      }
    },
    {
      "cell_type": "code",
      "source": [
        "# create a demo tensor for our housing price prediction problem\n",
        "house_info = tf.constant([\"bedroom\", \"bathroom\", \"garage\"])\n",
        "house_price = tf.constant([939700])\n",
        "house_info, house_price"
      ],
      "metadata": {
        "colab": {
          "base_uri": "https://localhost:8080/"
        },
        "id": "mxH4p6aTXnz0",
        "outputId": "22ec0648-af5c-4e5d-80c3-47d78ef2414b"
      },
      "execution_count": 4,
      "outputs": [
        {
          "output_type": "execute_result",
          "data": {
            "text/plain": [
              "(<tf.Tensor: shape=(3,), dtype=string, numpy=array([b'bedroom', b'bathroom', b'garage'], dtype=object)>,\n",
              " <tf.Tensor: shape=(1,), dtype=int32, numpy=array([939700], dtype=int32)>)"
            ]
          },
          "metadata": {},
          "execution_count": 4
        }
      ]
    },
    {
      "cell_type": "code",
      "source": [
        "input_shape = X.shape\n",
        "output_shape = y.shape\n",
        "input_shape, output_shape"
      ],
      "metadata": {
        "colab": {
          "base_uri": "https://localhost:8080/"
        },
        "id": "ksnm1hzaYNPt",
        "outputId": "db9373e9-3214-4b0b-c964-d18245c7df6b"
      },
      "execution_count": 5,
      "outputs": [
        {
          "output_type": "execute_result",
          "data": {
            "text/plain": [
              "((8,), (8,))"
            ]
          },
          "metadata": {},
          "execution_count": 5
        }
      ]
    },
    {
      "cell_type": "code",
      "source": [
        "# Turn our numpy arrays into tesnors\n",
        "X = tf.cast(tf.constant(X),dtype=tf.float32)\n",
        "y = tf.cast(tf.constant(y),dtype=tf.float32)\n",
        "X,y"
      ],
      "metadata": {
        "colab": {
          "base_uri": "https://localhost:8080/"
        },
        "id": "QWsQaSd4YXQk",
        "outputId": "0ecd89df-d3de-4b70-c335-f5f53d211f4f"
      },
      "execution_count": 6,
      "outputs": [
        {
          "output_type": "execute_result",
          "data": {
            "text/plain": [
              "(<tf.Tensor: shape=(8,), dtype=float32, numpy=array([-7., -4., -1.,  2.,  5.,  8., 11., 14.], dtype=float32)>,\n",
              " <tf.Tensor: shape=(8,), dtype=float32, numpy=array([ 3.,  6.,  9., 12., 15., 18., 21., 24.], dtype=float32)>)"
            ]
          },
          "metadata": {},
          "execution_count": 6
        }
      ]
    },
    {
      "cell_type": "code",
      "source": [
        "plt.scatter(X,y);"
      ],
      "metadata": {
        "colab": {
          "base_uri": "https://localhost:8080/",
          "height": 435
        },
        "id": "dzHb8SLdfMJ3",
        "outputId": "85fbccc6-96f6-4e63-b36d-df4468d908f2"
      },
      "execution_count": 7,
      "outputs": [
        {
          "output_type": "display_data",
          "data": {
            "text/plain": [
              "<Figure size 640x480 with 1 Axes>"
            ],
            "image/png": "[encoded data removed]"
          },
          "metadata": {}
        }
      ]
    },
    {
      "cell_type": "markdown",
      "source": [
        "## Steps in modeling with Tensorflow\n",
        "\n",
        "1. **Creating a model** - define the input and output layers, as well as the hidden layers of deep learning model.\n",
        "2. **Compiling a model** - define the loss function (in other words, the function which tells our model how wrong it is) and the optimizer ( tells our model how to improve the patterns its learning) and evaluation metrics (what we can use to interpret the performance of our model).\n",
        "3.**Fitting a model** - letting the model try to find patterns between X & y (features and model)."
      ],
      "metadata": {
        "id": "_3WWsGsAfSdJ"
      }
    },
    {
      "cell_type": "code",
      "source": [
        "# Set random seed\n",
        "tf.random.set_seed(42)\n",
        "\n",
        "# 1. create a model using the Sequential API\n",
        "model = tf.keras.Sequential([\n",
        "    tf.keras.layers.Dense(1)\n",
        "])\n",
        "''' or model = tf.keras.Sequential()\n",
        "model.add(tf.keras.layers.Dense(1))'''\n",
        "\n",
        "# 2. Compile the model\n",
        "model.compile(loss=tf.keras.losses.MAE,\n",
        "              optimizer = tf.keras.optimizers.SGD(),\n",
        "              metrics=[\"mae\"])\n",
        "# 3. Fit the model\n",
        "model.fit(tf.expand_dims(X, axis=-1),y, epochs=5)"
      ],
      "metadata": {
        "colab": {
          "base_uri": "https://localhost:8080/"
        },
        "id": "ccSgp_GVgeE1",
        "outputId": "b307a39a-8b2d-44ff-9917-a2827b8ff42b"
      },
      "execution_count": 8,
      "outputs": [
        {
          "output_type": "stream",
          "name": "stdout",
          "text": [
            "Epoch 1/5\n",
            "1/1 [==============================] - 0s 388ms/step - loss: 18.7106 - mae: 18.7106\n",
            "Epoch 2/5\n",
            "1/1 [==============================] - 0s 11ms/step - loss: 18.4293 - mae: 18.4293\n",
            "Epoch 3/5\n",
            "1/1 [==============================] - 0s 8ms/step - loss: 18.1481 - mae: 18.1481\n",
            "Epoch 4/5\n",
            "1/1 [==============================] - 0s 17ms/step - loss: 17.8668 - mae: 17.8668\n",
            "Epoch 5/5\n",
            "1/1 [==============================] - 0s 9ms/step - loss: 17.5856 - mae: 17.5856\n"
          ]
        },
        {
          "output_type": "execute_result",
          "data": {
            "text/plain": [
              "<keras.callbacks.History at 0x7f60ee7f5660>"
            ]
          },
          "metadata": {},
          "execution_count": 8
        }
      ]
    },
    {
      "cell_type": "code",
      "source": [
        "# Check out X and y\n",
        "X,y"
      ],
      "metadata": {
        "colab": {
          "base_uri": "https://localhost:8080/"
        },
        "id": "lYyD_5xwjl3n",
        "outputId": "c28d8adf-29ed-4356-8ff2-271397c023f4"
      },
      "execution_count": 9,
      "outputs": [
        {
          "output_type": "execute_result",
          "data": {
            "text/plain": [
              "(<tf.Tensor: shape=(8,), dtype=float32, numpy=array([-7., -4., -1.,  2.,  5.,  8., 11., 14.], dtype=float32)>,\n",
              " <tf.Tensor: shape=(8,), dtype=float32, numpy=array([ 3.,  6.,  9., 12., 15., 18., 21., 24.], dtype=float32)>)"
            ]
          },
          "metadata": {},
          "execution_count": 9
        }
      ]
    },
    {
      "cell_type": "code",
      "source": [
        "# Try and make a prediction  using our model\n",
        "y_pred = model.predict([17.0])\n",
        "y_pred"
      ],
      "metadata": {
        "colab": {
          "base_uri": "https://localhost:8080/"
        },
        "id": "5GcxYrufk834",
        "outputId": "7239a8c8-60c8-45e6-c403-967961557339"
      },
      "execution_count": 10,
      "outputs": [
        {
          "output_type": "stream",
          "name": "stdout",
          "text": [
            "1/1 [==============================] - 0s 102ms/step\n"
          ]
        },
        {
          "output_type": "execute_result",
          "data": {
            "text/plain": [
              "array([[-14.800908]], dtype=float32)"
            ]
          },
          "metadata": {},
          "execution_count": 10
        }
      ]
    },
    {
      "cell_type": "markdown",
      "source": [
        "### Improving our model\n",
        "we can improve our model by altering the steps we took to create a model.\n",
        "\n",
        "1. **Creating a model** - here we might add more layers, increase the number of hidden units (all called neurons) within each of the hidden layers, change the activation of each layer.\n",
        "2. **Compiling a model** - here we might change the functions or perhaps the **learning rate** of the optimization function.\n",
        "3. **Fitting a model** - here we might fit a model for more **epochs** (leave it training for longer) or on more data (give the model more examples to learn from)"
      ],
      "metadata": {
        "id": "jcw8l5n7lHNe"
      }
    },
    {
      "cell_type": "code",
      "source": [
        "# Let's rebuild our model\n",
        "\n",
        "# 1. Create the model\n",
        "model = tf.keras.Sequential([\n",
        "    tf.keras.layers.Dense(1)\n",
        "])\n",
        "\n",
        "# 2. Compile the model\n",
        "model.compile(loss=tf.keras.losses.mae,\n",
        "              optimizer=tf.keras.optimizers.SGD(),\n",
        "              metrics=[\"mae\"])\n",
        "\n",
        "# 3. Fit the model\n",
        "model.fit(tf.expand_dims(X, axis=-1),y, epochs=100)"
      ],
      "metadata": {
        "id": "5GWvEzqll5n_",
        "outputId": "b1c6149a-e3fe-48ec-9ee7-5c88416d0114",
        "colab": {
          "base_uri": "https://localhost:8080/"
        }
      },
      "execution_count": 11,
      "outputs": [
        {
          "output_type": "stream",
          "name": "stdout",
          "text": [
            "Epoch 1/100\n",
            "1/1 [==============================] - 0s 323ms/step - loss: 21.2884 - mae: 21.2884\n",
            "Epoch 2/100\n",
            "1/1 [==============================] - 0s 11ms/step - loss: 20.8952 - mae: 20.8952\n",
            "Epoch 3/100\n",
            "1/1 [==============================] - 0s 12ms/step - loss: 20.5185 - mae: 20.5185\n",
            "Epoch 4/100\n",
            "1/1 [==============================] - 0s 9ms/step - loss: 20.2372 - mae: 20.2372\n",
            "Epoch 5/100\n",
            "1/1 [==============================] - 0s 12ms/step - loss: 19.9560 - mae: 19.9560\n",
            "Epoch 6/100\n",
            "1/1 [==============================] - 0s 11ms/step - loss: 19.6747 - mae: 19.6747\n",
            "Epoch 7/100\n",
            "1/1 [==============================] - 0s 10ms/step - loss: 19.3935 - mae: 19.3935\n",
            "Epoch 8/100\n",
            "1/1 [==============================] - 0s 10ms/step - loss: 19.1122 - mae: 19.1122\n",
            "Epoch 9/100\n",
            "1/1 [==============================] - 0s 10ms/step - loss: 18.8310 - mae: 18.8310\n",
            "Epoch 10/100\n",
            "1/1 [==============================] - 0s 10ms/step - loss: 18.5497 - mae: 18.5497\n",
            "Epoch 11/100\n",
            "1/1 [==============================] - 0s 10ms/step - loss: 18.2685 - mae: 18.2685\n",
            "Epoch 12/100\n",
            "1/1 [==============================] - 0s 9ms/step - loss: 17.9872 - mae: 17.9872\n",
            "Epoch 13/100\n",
            "1/1 [==============================] - 0s 9ms/step - loss: 17.7060 - mae: 17.7060\n",
            "Epoch 14/100\n",
            "1/1 [==============================] - 0s 8ms/step - loss: 17.4247 - mae: 17.4247\n",
            "Epoch 15/100\n",
            "1/1 [==============================] - 0s 10ms/step - loss: 17.1435 - mae: 17.1435\n",
            "Epoch 16/100\n",
            "1/1 [==============================] - 0s 16ms/step - loss: 16.8622 - mae: 16.8622\n",
            "Epoch 17/100\n",
            "1/1 [==============================] - 0s 14ms/step - loss: 16.5810 - mae: 16.5810\n",
            "Epoch 18/100\n",
            "1/1 [==============================] - 0s 9ms/step - loss: 16.2997 - mae: 16.2997\n",
            "Epoch 19/100\n",
            "1/1 [==============================] - 0s 9ms/step - loss: 16.0185 - mae: 16.0185\n",
            "Epoch 20/100\n",
            "1/1 [==============================] - 0s 11ms/step - loss: 15.7372 - mae: 15.7372\n",
            "Epoch 21/100\n",
            "1/1 [==============================] - 0s 13ms/step - loss: 15.4560 - mae: 15.4560\n",
            "Epoch 22/100\n",
            "1/1 [==============================] - 0s 12ms/step - loss: 15.1747 - mae: 15.1747\n",
            "Epoch 23/100\n",
            "1/1 [==============================] - 0s 35ms/step - loss: 14.8935 - mae: 14.8935\n",
            "Epoch 24/100\n",
            "1/1 [==============================] - 0s 21ms/step - loss: 14.6577 - mae: 14.6577\n",
            "Epoch 25/100\n",
            "1/1 [==============================] - 0s 31ms/step - loss: 14.5252 - mae: 14.5252\n",
            "Epoch 26/100\n",
            "1/1 [==============================] - 0s 15ms/step - loss: 14.3927 - mae: 14.3927\n",
            "Epoch 27/100\n",
            "1/1 [==============================] - 0s 20ms/step - loss: 14.2602 - mae: 14.2602\n",
            "Epoch 28/100\n",
            "1/1 [==============================] - 0s 18ms/step - loss: 14.1277 - mae: 14.1277\n",
            "Epoch 29/100\n",
            "1/1 [==============================] - 0s 13ms/step - loss: 13.9952 - mae: 13.9952\n",
            "Epoch 30/100\n",
            "1/1 [==============================] - 0s 23ms/step - loss: 13.8627 - mae: 13.8627\n",
            "Epoch 31/100\n",
            "1/1 [==============================] - 0s 9ms/step - loss: 13.7302 - mae: 13.7302\n",
            "Epoch 32/100\n",
            "1/1 [==============================] - 0s 13ms/step - loss: 13.5977 - mae: 13.5977\n",
            "Epoch 33/100\n",
            "1/1 [==============================] - 0s 21ms/step - loss: 13.4652 - mae: 13.4652\n",
            "Epoch 34/100\n",
            "1/1 [==============================] - 0s 13ms/step - loss: 13.3327 - mae: 13.3327\n",
            "Epoch 35/100\n",
            "1/1 [==============================] - 0s 15ms/step - loss: 13.2002 - mae: 13.2002\n",
            "Epoch 36/100\n",
            "1/1 [==============================] - 0s 12ms/step - loss: 13.0677 - mae: 13.0677\n",
            "Epoch 37/100\n",
            "1/1 [==============================] - 0s 11ms/step - loss: 12.9352 - mae: 12.9352\n",
            "Epoch 38/100\n",
            "1/1 [==============================] - 0s 10ms/step - loss: 12.8027 - mae: 12.8027\n",
            "Epoch 39/100\n",
            "1/1 [==============================] - 0s 13ms/step - loss: 12.6702 - mae: 12.6702\n",
            "Epoch 40/100\n",
            "1/1 [==============================] - 0s 20ms/step - loss: 12.5377 - mae: 12.5377\n",
            "Epoch 41/100\n",
            "1/1 [==============================] - 0s 11ms/step - loss: 12.4052 - mae: 12.4052\n",
            "Epoch 42/100\n",
            "1/1 [==============================] - 0s 10ms/step - loss: 12.2727 - mae: 12.2727\n",
            "Epoch 43/100\n",
            "1/1 [==============================] - 0s 12ms/step - loss: 12.1402 - mae: 12.1402\n",
            "Epoch 44/100\n",
            "1/1 [==============================] - 0s 16ms/step - loss: 12.0077 - mae: 12.0077\n",
            "Epoch 45/100\n",
            "1/1 [==============================] - 0s 9ms/step - loss: 11.8752 - mae: 11.8752\n",
            "Epoch 46/100\n",
            "1/1 [==============================] - 0s 11ms/step - loss: 11.7427 - mae: 11.7427\n",
            "Epoch 47/100\n",
            "1/1 [==============================] - 0s 10ms/step - loss: 11.6102 - mae: 11.6102\n",
            "Epoch 48/100\n",
            "1/1 [==============================] - 0s 12ms/step - loss: 11.4777 - mae: 11.4777\n",
            "Epoch 49/100\n",
            "1/1 [==============================] - 0s 15ms/step - loss: 11.3452 - mae: 11.3452\n",
            "Epoch 50/100\n",
            "1/1 [==============================] - 0s 14ms/step - loss: 11.2127 - mae: 11.2127\n",
            "Epoch 51/100\n",
            "1/1 [==============================] - 0s 12ms/step - loss: 11.0802 - mae: 11.0802\n",
            "Epoch 52/100\n",
            "1/1 [==============================] - 0s 14ms/step - loss: 10.9477 - mae: 10.9477\n",
            "Epoch 53/100\n",
            "1/1 [==============================] - 0s 12ms/step - loss: 10.8152 - mae: 10.8152\n",
            "Epoch 54/100\n",
            "1/1 [==============================] - 0s 14ms/step - loss: 10.6827 - mae: 10.6827\n",
            "Epoch 55/100\n",
            "1/1 [==============================] - 0s 21ms/step - loss: 10.5502 - mae: 10.5502\n",
            "Epoch 56/100\n",
            "1/1 [==============================] - 0s 18ms/step - loss: 10.4177 - mae: 10.4177\n",
            "Epoch 57/100\n",
            "1/1 [==============================] - 0s 11ms/step - loss: 10.2852 - mae: 10.2852\n",
            "Epoch 58/100\n",
            "1/1 [==============================] - 0s 13ms/step - loss: 10.1527 - mae: 10.1527\n",
            "Epoch 59/100\n",
            "1/1 [==============================] - 0s 11ms/step - loss: 10.0202 - mae: 10.0202\n",
            "Epoch 60/100\n",
            "1/1 [==============================] - 0s 11ms/step - loss: 9.8877 - mae: 9.8877\n",
            "Epoch 61/100\n",
            "1/1 [==============================] - 0s 11ms/step - loss: 9.7552 - mae: 9.7552\n",
            "Epoch 62/100\n",
            "1/1 [==============================] - 0s 12ms/step - loss: 9.6227 - mae: 9.6227\n",
            "Epoch 63/100\n",
            "1/1 [==============================] - 0s 11ms/step - loss: 9.4902 - mae: 9.4902\n",
            "Epoch 64/100\n",
            "1/1 [==============================] - 0s 10ms/step - loss: 9.3577 - mae: 9.3577\n",
            "Epoch 65/100\n",
            "1/1 [==============================] - 0s 12ms/step - loss: 9.2252 - mae: 9.2252\n",
            "Epoch 66/100\n",
            "1/1 [==============================] - 0s 12ms/step - loss: 9.0927 - mae: 9.0927\n",
            "Epoch 67/100\n",
            "1/1 [==============================] - 0s 12ms/step - loss: 8.9602 - mae: 8.9602\n",
            "Epoch 68/100\n",
            "1/1 [==============================] - 0s 12ms/step - loss: 8.8277 - mae: 8.8277\n",
            "Epoch 69/100\n",
            "1/1 [==============================] - 0s 12ms/step - loss: 8.6952 - mae: 8.6952\n",
            "Epoch 70/100\n",
            "1/1 [==============================] - 0s 13ms/step - loss: 8.5627 - mae: 8.5627\n",
            "Epoch 71/100\n",
            "1/1 [==============================] - 0s 35ms/step - loss: 8.4302 - mae: 8.4302\n",
            "Epoch 72/100\n",
            "1/1 [==============================] - 0s 18ms/step - loss: 8.2977 - mae: 8.2977\n",
            "Epoch 73/100\n",
            "1/1 [==============================] - 0s 10ms/step - loss: 8.1652 - mae: 8.1652\n",
            "Epoch 74/100\n",
            "1/1 [==============================] - 0s 13ms/step - loss: 8.0327 - mae: 8.0327\n",
            "Epoch 75/100\n",
            "1/1 [==============================] - 0s 19ms/step - loss: 7.9002 - mae: 7.9002\n",
            "Epoch 76/100\n",
            "1/1 [==============================] - 0s 10ms/step - loss: 7.7677 - mae: 7.7677\n",
            "Epoch 77/100\n",
            "1/1 [==============================] - 0s 14ms/step - loss: 7.6352 - mae: 7.6352\n",
            "Epoch 78/100\n",
            "1/1 [==============================] - 0s 15ms/step - loss: 7.5027 - mae: 7.5027\n",
            "Epoch 79/100\n",
            "1/1 [==============================] - 0s 10ms/step - loss: 7.3702 - mae: 7.3702\n",
            "Epoch 80/100\n",
            "1/1 [==============================] - 0s 11ms/step - loss: 7.2377 - mae: 7.2377\n",
            "Epoch 81/100\n",
            "1/1 [==============================] - 0s 10ms/step - loss: 7.1052 - mae: 7.1052\n",
            "Epoch 82/100\n",
            "1/1 [==============================] - 0s 9ms/step - loss: 6.9727 - mae: 6.9727\n",
            "Epoch 83/100\n",
            "1/1 [==============================] - 0s 15ms/step - loss: 6.9319 - mae: 6.9319\n",
            "Epoch 84/100\n",
            "1/1 [==============================] - 0s 13ms/step - loss: 6.9263 - mae: 6.9263\n",
            "Epoch 85/100\n",
            "1/1 [==============================] - 0s 12ms/step - loss: 6.9206 - mae: 6.9206\n",
            "Epoch 86/100\n",
            "1/1 [==============================] - 0s 18ms/step - loss: 6.9150 - mae: 6.9150\n",
            "Epoch 87/100\n",
            "1/1 [==============================] - 0s 18ms/step - loss: 6.9094 - mae: 6.9094\n",
            "Epoch 88/100\n",
            "1/1 [==============================] - 0s 22ms/step - loss: 6.9038 - mae: 6.9038\n",
            "Epoch 89/100\n",
            "1/1 [==============================] - 0s 13ms/step - loss: 6.8981 - mae: 6.8981\n",
            "Epoch 90/100\n",
            "1/1 [==============================] - 0s 15ms/step - loss: 6.8925 - mae: 6.8925\n",
            "Epoch 91/100\n",
            "1/1 [==============================] - 0s 15ms/step - loss: 6.8869 - mae: 6.8869\n",
            "Epoch 92/100\n",
            "1/1 [==============================] - 0s 11ms/step - loss: 6.8813 - mae: 6.8813\n",
            "Epoch 93/100\n",
            "1/1 [==============================] - 0s 12ms/step - loss: 6.8756 - mae: 6.8756\n",
            "Epoch 94/100\n",
            "1/1 [==============================] - 0s 14ms/step - loss: 6.8700 - mae: 6.8700\n",
            "Epoch 95/100\n",
            "1/1 [==============================] - 0s 13ms/step - loss: 6.8644 - mae: 6.8644\n",
            "Epoch 96/100\n",
            "1/1 [==============================] - 0s 10ms/step - loss: 6.8588 - mae: 6.8588\n",
            "Epoch 97/100\n",
            "1/1 [==============================] - 0s 10ms/step - loss: 6.8531 - mae: 6.8531\n",
            "Epoch 98/100\n",
            "1/1 [==============================] - 0s 10ms/step - loss: 6.8475 - mae: 6.8475\n",
            "Epoch 99/100\n",
            "1/1 [==============================] - 0s 14ms/step - loss: 6.8419 - mae: 6.8419\n",
            "Epoch 100/100\n",
            "1/1 [==============================] - 0s 20ms/step - loss: 6.8363 - mae: 6.8363\n"
          ]
        },
        {
          "output_type": "execute_result",
          "data": {
            "text/plain": [
              "<keras.callbacks.History at 0x7f60edde0730>"
            ]
          },
          "metadata": {},
          "execution_count": 11
        }
      ]
    },
    {
      "cell_type": "code",
      "source": [
        "# Let's see iff our model predction has improved...\n",
        "y_pred = model.predict([17.0])\n",
        "y_pred"
      ],
      "metadata": {
        "id": "k7Dq--RshtS6",
        "outputId": "097466d1-2a2e-469f-8fc3-617b631fb325",
        "colab": {
          "base_uri": "https://localhost:8080/"
        }
      },
      "execution_count": 12,
      "outputs": [
        {
          "output_type": "stream",
          "name": "stdout",
          "text": [
            "1/1 [==============================] - 0s 131ms/step\n"
          ]
        },
        {
          "output_type": "execute_result",
          "data": {
            "text/plain": [
              "array([[29.56063]], dtype=float32)"
            ]
          },
          "metadata": {},
          "execution_count": 12
        }
      ]
    },
    {
      "cell_type": "code",
      "source": [
        "# Let see if we can make another to improve our model\n",
        "\n",
        "# 1. Create the model (this time with an extra hidden layer with 100 hidden units)\n",
        "model = tf.keras.Sequential([\n",
        "    tf.keras.layers.Dense(50, activation=None),\n",
        "    tf.keras.layers.Dense(1)\n",
        "])\n",
        "\n",
        "# 2. Compile the model\n",
        "model.compile(loss=\"mae\",\n",
        "              optimizer=tf.keras.optimizers.Adam(lr=0.01),\n",
        "              metrics=[\"mae\"])\n",
        "\n",
        "# 3. Fit the model\n",
        "model.fit(tf.expand_dims(X, axis=-1),y, epochs=100)"
      ],
      "metadata": {
        "id": "BP2ZcXs2gBTP",
        "outputId": "307fd895-db4f-4ebd-c2cd-6b4380b9645f",
        "colab": {
          "base_uri": "https://localhost:8080/"
        }
      },
      "execution_count": 13,
      "outputs": [
        {
          "output_type": "stream",
          "name": "stderr",
          "text": [
            "WARNING:absl:`lr` is deprecated in Keras optimizer, please use `learning_rate` or use the legacy optimizer, e.g.,tf.keras.optimizers.legacy.Adam.\n"
          ]
        },
        {
          "output_type": "stream",
          "name": "stdout",
          "text": [
            "Epoch 1/100\n",
            "1/1 [==============================] - 1s 1s/step - loss: 12.2311 - mae: 12.2311\n",
            "Epoch 2/100\n",
            "1/1 [==============================] - 0s 16ms/step - loss: 12.1631 - mae: 12.1631\n",
            "Epoch 3/100\n",
            "1/1 [==============================] - 0s 12ms/step - loss: 12.0951 - mae: 12.0951\n",
            "Epoch 4/100\n",
            "1/1 [==============================] - 0s 11ms/step - loss: 12.0270 - mae: 12.0270\n",
            "Epoch 5/100\n",
            "1/1 [==============================] - 0s 17ms/step - loss: 11.9588 - mae: 11.9588\n",
            "Epoch 6/100\n",
            "1/1 [==============================] - 0s 16ms/step - loss: 11.8906 - mae: 11.8906\n",
            "Epoch 7/100\n",
            "1/1 [==============================] - 0s 13ms/step - loss: 11.8223 - mae: 11.8223\n",
            "Epoch 8/100\n",
            "1/1 [==============================] - 0s 28ms/step - loss: 11.7540 - mae: 11.7540\n",
            "Epoch 9/100\n",
            "1/1 [==============================] - 0s 21ms/step - loss: 11.6856 - mae: 11.6856\n",
            "Epoch 10/100\n",
            "1/1 [==============================] - 0s 14ms/step - loss: 11.6170 - mae: 11.6170\n",
            "Epoch 11/100\n",
            "1/1 [==============================] - 0s 21ms/step - loss: 11.5484 - mae: 11.5484\n",
            "Epoch 12/100\n",
            "1/1 [==============================] - 0s 23ms/step - loss: 11.4797 - mae: 11.4797\n",
            "Epoch 13/100\n",
            "1/1 [==============================] - 0s 11ms/step - loss: 11.4109 - mae: 11.4109\n",
            "Epoch 14/100\n",
            "1/1 [==============================] - 0s 10ms/step - loss: 11.3420 - mae: 11.3420\n",
            "Epoch 15/100\n",
            "1/1 [==============================] - 0s 11ms/step - loss: 11.2730 - mae: 11.2730\n",
            "Epoch 16/100\n",
            "1/1 [==============================] - 0s 9ms/step - loss: 11.2038 - mae: 11.2038\n",
            "Epoch 17/100\n",
            "1/1 [==============================] - 0s 9ms/step - loss: 11.1345 - mae: 11.1345\n",
            "Epoch 18/100\n",
            "1/1 [==============================] - 0s 9ms/step - loss: 11.0651 - mae: 11.0651\n",
            "Epoch 19/100\n",
            "1/1 [==============================] - 0s 25ms/step - loss: 10.9955 - mae: 10.9955\n",
            "Epoch 20/100\n",
            "1/1 [==============================] - 0s 17ms/step - loss: 10.9257 - mae: 10.9257\n",
            "Epoch 21/100\n",
            "1/1 [==============================] - 0s 17ms/step - loss: 10.8558 - mae: 10.8558\n",
            "Epoch 22/100\n",
            "1/1 [==============================] - 0s 12ms/step - loss: 10.7857 - mae: 10.7857\n",
            "Epoch 23/100\n",
            "1/1 [==============================] - 0s 13ms/step - loss: 10.7154 - mae: 10.7154\n",
            "Epoch 24/100\n",
            "1/1 [==============================] - 0s 11ms/step - loss: 10.6449 - mae: 10.6449\n",
            "Epoch 25/100\n",
            "1/1 [==============================] - 0s 13ms/step - loss: 10.5742 - mae: 10.5742\n",
            "Epoch 26/100\n",
            "1/1 [==============================] - 0s 13ms/step - loss: 10.5033 - mae: 10.5033\n",
            "Epoch 27/100\n",
            "1/1 [==============================] - 0s 12ms/step - loss: 10.4322 - mae: 10.4322\n",
            "Epoch 28/100\n",
            "1/1 [==============================] - 0s 12ms/step - loss: 10.3608 - mae: 10.3608\n",
            "Epoch 29/100\n",
            "1/1 [==============================] - 0s 19ms/step - loss: 10.2892 - mae: 10.2892\n",
            "Epoch 30/100\n",
            "1/1 [==============================] - 0s 14ms/step - loss: 10.2174 - mae: 10.2174\n",
            "Epoch 31/100\n",
            "1/1 [==============================] - 0s 10ms/step - loss: 10.1452 - mae: 10.1452\n",
            "Epoch 32/100\n",
            "1/1 [==============================] - 0s 16ms/step - loss: 10.0729 - mae: 10.0729\n",
            "Epoch 33/100\n",
            "1/1 [==============================] - 0s 12ms/step - loss: 10.0002 - mae: 10.0002\n",
            "Epoch 34/100\n",
            "1/1 [==============================] - 0s 16ms/step - loss: 9.9273 - mae: 9.9273\n",
            "Epoch 35/100\n",
            "1/1 [==============================] - 0s 12ms/step - loss: 9.8541 - mae: 9.8541\n",
            "Epoch 36/100\n",
            "1/1 [==============================] - 0s 11ms/step - loss: 9.7806 - mae: 9.7806\n",
            "Epoch 37/100\n",
            "1/1 [==============================] - 0s 13ms/step - loss: 9.7067 - mae: 9.7067\n",
            "Epoch 38/100\n",
            "1/1 [==============================] - 0s 12ms/step - loss: 9.6326 - mae: 9.6326\n",
            "Epoch 39/100\n",
            "1/1 [==============================] - 0s 12ms/step - loss: 9.5582 - mae: 9.5582\n",
            "Epoch 40/100\n",
            "1/1 [==============================] - 0s 12ms/step - loss: 9.4834 - mae: 9.4834\n",
            "Epoch 41/100\n",
            "1/1 [==============================] - 0s 19ms/step - loss: 9.4083 - mae: 9.4083\n",
            "Epoch 42/100\n",
            "1/1 [==============================] - 0s 21ms/step - loss: 9.3329 - mae: 9.3329\n",
            "Epoch 43/100\n",
            "1/1 [==============================] - 0s 12ms/step - loss: 9.2571 - mae: 9.2571\n",
            "Epoch 44/100\n",
            "1/1 [==============================] - 0s 20ms/step - loss: 9.1809 - mae: 9.1809\n",
            "Epoch 45/100\n",
            "1/1 [==============================] - 0s 14ms/step - loss: 9.1044 - mae: 9.1044\n",
            "Epoch 46/100\n",
            "1/1 [==============================] - 0s 11ms/step - loss: 9.0276 - mae: 9.0276\n",
            "Epoch 47/100\n",
            "1/1 [==============================] - 0s 13ms/step - loss: 8.9504 - mae: 8.9504\n",
            "Epoch 48/100\n",
            "1/1 [==============================] - 0s 12ms/step - loss: 8.8728 - mae: 8.8728\n",
            "Epoch 49/100\n",
            "1/1 [==============================] - 0s 13ms/step - loss: 8.7948 - mae: 8.7948\n",
            "Epoch 50/100\n",
            "1/1 [==============================] - 0s 14ms/step - loss: 8.7164 - mae: 8.7164\n",
            "Epoch 51/100\n",
            "1/1 [==============================] - 0s 14ms/step - loss: 8.6376 - mae: 8.6376\n",
            "Epoch 52/100\n",
            "1/1 [==============================] - 0s 14ms/step - loss: 8.5584 - mae: 8.5584\n",
            "Epoch 53/100\n",
            "1/1 [==============================] - 0s 13ms/step - loss: 8.4788 - mae: 8.4788\n",
            "Epoch 54/100\n",
            "1/1 [==============================] - 0s 11ms/step - loss: 8.3989 - mae: 8.3989\n",
            "Epoch 55/100\n",
            "1/1 [==============================] - 0s 19ms/step - loss: 8.3184 - mae: 8.3184\n",
            "Epoch 56/100\n",
            "1/1 [==============================] - 0s 17ms/step - loss: 8.2376 - mae: 8.2376\n",
            "Epoch 57/100\n",
            "1/1 [==============================] - 0s 14ms/step - loss: 8.1563 - mae: 8.1563\n",
            "Epoch 58/100\n",
            "1/1 [==============================] - 0s 19ms/step - loss: 8.0746 - mae: 8.0746\n",
            "Epoch 59/100\n",
            "1/1 [==============================] - 0s 21ms/step - loss: 7.9925 - mae: 7.9925\n",
            "Epoch 60/100\n",
            "1/1 [==============================] - 0s 16ms/step - loss: 7.9099 - mae: 7.9099\n",
            "Epoch 61/100\n",
            "1/1 [==============================] - 0s 15ms/step - loss: 7.8268 - mae: 7.8268\n",
            "Epoch 62/100\n",
            "1/1 [==============================] - 0s 20ms/step - loss: 7.7433 - mae: 7.7433\n",
            "Epoch 63/100\n",
            "1/1 [==============================] - 0s 16ms/step - loss: 7.6593 - mae: 7.6593\n",
            "Epoch 64/100\n",
            "1/1 [==============================] - 0s 21ms/step - loss: 7.5748 - mae: 7.5748\n",
            "Epoch 65/100\n",
            "1/1 [==============================] - 0s 22ms/step - loss: 7.4899 - mae: 7.4899\n",
            "Epoch 66/100\n",
            "1/1 [==============================] - 0s 21ms/step - loss: 7.4045 - mae: 7.4045\n",
            "Epoch 67/100\n",
            "1/1 [==============================] - 0s 23ms/step - loss: 7.3186 - mae: 7.3186\n",
            "Epoch 68/100\n",
            "1/1 [==============================] - 0s 17ms/step - loss: 7.2322 - mae: 7.2322\n",
            "Epoch 69/100\n",
            "1/1 [==============================] - 0s 29ms/step - loss: 7.1453 - mae: 7.1453\n",
            "Epoch 70/100\n",
            "1/1 [==============================] - 0s 18ms/step - loss: 7.0579 - mae: 7.0579\n",
            "Epoch 71/100\n",
            "1/1 [==============================] - 0s 18ms/step - loss: 6.9700 - mae: 6.9700\n",
            "Epoch 72/100\n",
            "1/1 [==============================] - 0s 17ms/step - loss: 6.9187 - mae: 6.9187\n",
            "Epoch 73/100\n",
            "1/1 [==============================] - 0s 18ms/step - loss: 6.9085 - mae: 6.9085\n",
            "Epoch 74/100\n",
            "1/1 [==============================] - 0s 15ms/step - loss: 6.8986 - mae: 6.8986\n",
            "Epoch 75/100\n",
            "1/1 [==============================] - 0s 20ms/step - loss: 6.8889 - mae: 6.8889\n",
            "Epoch 76/100\n",
            "1/1 [==============================] - 0s 23ms/step - loss: 6.8793 - mae: 6.8793\n",
            "Epoch 77/100\n",
            "1/1 [==============================] - 0s 18ms/step - loss: 6.8699 - mae: 6.8699\n",
            "Epoch 78/100\n",
            "1/1 [==============================] - 0s 47ms/step - loss: 6.8606 - mae: 6.8606\n",
            "Epoch 79/100\n",
            "1/1 [==============================] - 0s 29ms/step - loss: 6.8515 - mae: 6.8515\n",
            "Epoch 80/100\n",
            "1/1 [==============================] - 0s 15ms/step - loss: 6.8425 - mae: 6.8425\n",
            "Epoch 81/100\n",
            "1/1 [==============================] - 0s 30ms/step - loss: 6.8336 - mae: 6.8336\n",
            "Epoch 82/100\n",
            "1/1 [==============================] - 0s 29ms/step - loss: 6.8247 - mae: 6.8247\n",
            "Epoch 83/100\n",
            "1/1 [==============================] - 0s 26ms/step - loss: 6.8160 - mae: 6.8160\n",
            "Epoch 84/100\n",
            "1/1 [==============================] - 0s 31ms/step - loss: 6.8073 - mae: 6.8073\n",
            "Epoch 85/100\n",
            "1/1 [==============================] - 0s 25ms/step - loss: 6.7991 - mae: 6.7991\n",
            "Epoch 86/100\n",
            "1/1 [==============================] - 0s 16ms/step - loss: 6.8046 - mae: 6.8046\n",
            "Epoch 87/100\n",
            "1/1 [==============================] - 0s 14ms/step - loss: 6.8040 - mae: 6.8040\n",
            "Epoch 88/100\n",
            "1/1 [==============================] - 0s 13ms/step - loss: 6.7978 - mae: 6.7978\n",
            "Epoch 89/100\n",
            "1/1 [==============================] - 0s 13ms/step - loss: 6.7867 - mae: 6.7867\n",
            "Epoch 90/100\n",
            "1/1 [==============================] - 0s 20ms/step - loss: 6.7712 - mae: 6.7712\n",
            "Epoch 91/100\n",
            "1/1 [==============================] - 0s 15ms/step - loss: 6.7556 - mae: 6.7556\n",
            "Epoch 92/100\n",
            "1/1 [==============================] - 0s 13ms/step - loss: 6.7491 - mae: 6.7491\n",
            "Epoch 93/100\n",
            "1/1 [==============================] - 0s 12ms/step - loss: 6.7425 - mae: 6.7425\n",
            "Epoch 94/100\n",
            "1/1 [==============================] - 0s 14ms/step - loss: 6.7357 - mae: 6.7357\n",
            "Epoch 95/100\n",
            "1/1 [==============================] - 0s 29ms/step - loss: 6.7288 - mae: 6.7288\n",
            "Epoch 96/100\n",
            "1/1 [==============================] - 0s 16ms/step - loss: 6.7217 - mae: 6.7217\n",
            "Epoch 97/100\n",
            "1/1 [==============================] - 0s 17ms/step - loss: 6.7146 - mae: 6.7146\n",
            "Epoch 98/100\n",
            "1/1 [==============================] - 0s 13ms/step - loss: 6.7073 - mae: 6.7073\n",
            "Epoch 99/100\n",
            "1/1 [==============================] - 0s 22ms/step - loss: 6.6999 - mae: 6.6999\n",
            "Epoch 100/100\n",
            "1/1 [==============================] - 0s 16ms/step - loss: 6.6925 - mae: 6.6925\n"
          ]
        },
        {
          "output_type": "execute_result",
          "data": {
            "text/plain": [
              "<keras.callbacks.History at 0x7f60ef0dd840>"
            ]
          },
          "metadata": {},
          "execution_count": 13
        }
      ]
    },
    {
      "cell_type": "code",
      "source": [
        "# Let's try to make a prediction\n",
        "model.predict([17.0])"
      ],
      "metadata": {
        "id": "QLMODG0-hhH6",
        "outputId": "dfaeeb48-8ea1-4a07-a7cd-0b6ce3ef3362",
        "colab": {
          "base_uri": "https://localhost:8080/"
        }
      },
      "execution_count": 14,
      "outputs": [
        {
          "output_type": "stream",
          "name": "stdout",
          "text": [
            "1/1 [==============================] - 0s 345ms/step\n"
          ]
        },
        {
          "output_type": "execute_result",
          "data": {
            "text/plain": [
              "array([[31.4686]], dtype=float32)"
            ]
          },
          "metadata": {},
          "execution_count": 14
        }
      ]
    },
    {
      "cell_type": "markdown",
      "source": [
        "### Evaluating a model\n",
        "\n",
        "In practice, a typical workflow you'll go through when building neural networks is:\n",
        "\n",
        "```\n",
        "Build a model -> fit it -> evaluate it -> tweak a model -> fit it -> evaluate it -> tweak a model -> fit it -> evaluate it ...\n",
        "```"
      ],
      "metadata": {
        "id": "H633C9Dfh08E"
      }
    },
    {
      "cell_type": "markdown",
      "source": [
        "When it comes to evaluation... there are 3 words you should memorize:\n",
        "\n",
        "> \"Visualize, visualize, visualize\"\n",
        "\n",
        "It's good idea to visualize:\n",
        "* The data - what data are we working with? What does it look like?\n",
        "* The model itself - what does our model look like?\n",
        "* The training of a model - how does a model perform while it learns?\n",
        "* The predictions of the model - how do the predictions of a model line up against the ground truth(the orignal label)"
      ],
      "metadata": {
        "id": "gFrp0k31kNnw"
      }
    },
    {
      "cell_type": "code",
      "source": [
        "# make a bigger a dataset\n",
        "X = tf.range(-100,100,4)\n",
        "X"
      ],
      "metadata": {
        "id": "SWlbK7eallb_",
        "outputId": "c52695da-c730-46a2-cf65-8cbe0557c3fe",
        "colab": {
          "base_uri": "https://localhost:8080/"
        }
      },
      "execution_count": 15,
      "outputs": [
        {
          "output_type": "execute_result",
          "data": {
            "text/plain": [
              "<tf.Tensor: shape=(50,), dtype=int32, numpy=\n",
              "array([-100,  -96,  -92,  -88,  -84,  -80,  -76,  -72,  -68,  -64,  -60,\n",
              "        -56,  -52,  -48,  -44,  -40,  -36,  -32,  -28,  -24,  -20,  -16,\n",
              "        -12,   -8,   -4,    0,    4,    8,   12,   16,   20,   24,   28,\n",
              "         32,   36,   40,   44,   48,   52,   56,   60,   64,   68,   72,\n",
              "         76,   80,   84,   88,   92,   96], dtype=int32)>"
            ]
          },
          "metadata": {},
          "execution_count": 15
        }
      ]
    },
    {
      "cell_type": "code",
      "source": [
        "# Make labels for the dataset\n",
        "y = X + 10\n",
        "y"
      ],
      "metadata": {
        "id": "24-QYMQamtlC",
        "outputId": "08a3f6e3-39c7-447b-be17-f4c60a952905",
        "colab": {
          "base_uri": "https://localhost:8080/"
        }
      },
      "execution_count": 16,
      "outputs": [
        {
          "output_type": "execute_result",
          "data": {
            "text/plain": [
              "<tf.Tensor: shape=(50,), dtype=int32, numpy=\n",
              "array([-90, -86, -82, -78, -74, -70, -66, -62, -58, -54, -50, -46, -42,\n",
              "       -38, -34, -30, -26, -22, -18, -14, -10,  -6,  -2,   2,   6,  10,\n",
              "        14,  18,  22,  26,  30,  34,  38,  42,  46,  50,  54,  58,  62,\n",
              "        66,  70,  74,  78,  82,  86,  90,  94,  98, 102, 106], dtype=int32)>"
            ]
          },
          "metadata": {},
          "execution_count": 16
        }
      ]
    },
    {
      "cell_type": "code",
      "source": [
        "# Visualize the data\n",
        "import matplotlib.pyplot as plt\n",
        "\n",
        "plt.scatter(X,y)"
      ],
      "metadata": {
        "id": "qFsJ-H7SnA6C",
        "outputId": "5d49ac4b-eddc-4a41-a2ef-82b3bbfaac08",
        "colab": {
          "base_uri": "https://localhost:8080/",
          "height": 447
        }
      },
      "execution_count": 17,
      "outputs": [
        {
          "output_type": "execute_result",
          "data": {
            "text/plain": [
              "<matplotlib.collections.PathCollection at 0x7f60ef016a10>"
            ]
          },
          "metadata": {},
          "execution_count": 17
        },
        {
          "output_type": "display_data",
          "data": {
            "text/plain": [
              "<Figure size 640x480 with 1 Axes>"
            ],
            "image/png": "[encoded data removed]"
          },
          "metadata": {}
        }
      ]
    },
    {
      "cell_type": "markdown",
      "source": [
        "### The 3 sets...\n",
        "\n",
        "* Training set - the model learns from the data, which is typiclly 70-80% of the total data you have available.\n",
        "* **Validation set** - the model gets tuned on this data, which is typically 10-15% of the data available\n",
        "* **Test set** - the model gets evaluated on this data to test what it has learned, this set is typically 10-15% of the total data available."
      ],
      "metadata": {
        "id": "NaGp-RcznNup"
      }
    },
    {
      "cell_type": "code",
      "source": [
        "# Check the length of how many samples we have\n",
        "len(X)"
      ],
      "metadata": {
        "id": "8tHVMHjmoep1",
        "outputId": "95202a32-089e-4cf3-e156-da9fb246b662",
        "colab": {
          "base_uri": "https://localhost:8080/"
        }
      },
      "execution_count": 18,
      "outputs": [
        {
          "output_type": "execute_result",
          "data": {
            "text/plain": [
              "50"
            ]
          },
          "metadata": {},
          "execution_count": 18
        }
      ]
    },
    {
      "cell_type": "code",
      "source": [
        "# Split the data into train and test sets\n",
        "X_train = X[:40]\n",
        "y_train = y[:40]\n",
        "X_test = X[40:]\n",
        "y_test = y[40:]\n",
        "\n",
        "len(X_train),len(X_test),len(y_train),len(y_test)"
      ],
      "metadata": {
        "id": "9ZxTAxvdo28d",
        "outputId": "3797114c-640a-47a5-f3e2-e01014a01b00",
        "colab": {
          "base_uri": "https://localhost:8080/"
        }
      },
      "execution_count": 19,
      "outputs": [
        {
          "output_type": "execute_result",
          "data": {
            "text/plain": [
              "(40, 10, 40, 10)"
            ]
          },
          "metadata": {},
          "execution_count": 19
        }
      ]
    },
    {
      "cell_type": "markdown",
      "source": [
        "### Visualising the data\n",
        "\n",
        "Now we've got our data in training and test sets... let's visualize it again!"
      ],
      "metadata": {
        "id": "yNC4zK0zpci7"
      }
    },
    {
      "cell_type": "code",
      "source": [
        "plt.figure(figsize=(10,7))\n",
        "#Plot training data in blue\n",
        "plt.scatter(X_train, y_train, c=\"b\", label=\"Training data\")\n",
        "# Plot test data in green\n",
        "plt.scatter(X_test, y_test, c=\"g\", label=\"Testing data\")\n",
        "# Show a legend\n",
        "plt.legend();"
      ],
      "metadata": {
        "id": "fjeZmhhDpxdf",
        "outputId": "35667d0d-75c2-40fb-de53-1c3f233f3d46",
        "colab": {
          "base_uri": "https://localhost:8080/",
          "height": 456
        }
      },
      "execution_count": 20,
      "outputs": [
        {
          "output_type": "display_data",
          "data": {
            "text/plain": [
              "<Figure size 1000x700 with 1 Axes>"
            ],
            "image/png": "[encoded data removed]"
          },
          "metadata": {}
        }
      ]
    },
    {
      "cell_type": "code",
      "source": [
        "# Let's have a look at how to build neural network for our data\n",
        "\n",
        "# 1. create a model\n",
        "model = tf.keras.Sequential([\n",
        "    tf.keras.layers.Dense(1)\n",
        "])\n",
        "\n",
        "# 2. Compile the model\n",
        "model.compile(loss=tf.keras.losses.mae,\n",
        "              optimizer=tf.keras.optimizers.SGD(),\n",
        "              metrics=[\"mae\"])\n",
        "# 3. Fit the model\n",
        "# model.fit(tf.expand_dims(X_train,axis=-1),y_train,epochs=100)"
      ],
      "metadata": {
        "id": "pbdbFm4sqbeK"
      },
      "execution_count": 21,
      "outputs": []
    },
    {
      "cell_type": "markdown",
      "source": [
        "### Visualising the model"
      ],
      "metadata": {
        "id": "262nViH6FcJr"
      }
    },
    {
      "cell_type": "code",
      "source": [
        "model.summary()"
      ],
      "metadata": {
        "id": "L5Lcl47mF56v",
        "outputId": "736bb9e7-f0cc-4d49-e5a9-af960f326ef7",
        "colab": {
          "base_uri": "https://localhost:8080/",
          "height": 339
        }
      },
      "execution_count": 22,
      "outputs": [
        {
          "output_type": "error",
          "ename": "ValueError",
          "evalue": "ignored",
          "traceback": [
            "\u001b[0;31m---------------------------------------------------------------------------\u001b[0m",
            "\u001b[0;31mValueError\u001b[0m                                Traceback (most recent call last)",
            "\u001b[0;32m<ipython-input-22-5f15418b3570>\u001b[0m in \u001b[0;36m<cell line: 1>\u001b[0;34m()\u001b[0m\n\u001b[0;32m----> 1\u001b[0;31m \u001b[0mmodel\u001b[0m\u001b[0;34m.\u001b[0m\u001b[0msummary\u001b[0m\u001b[0;34m(\u001b[0m\u001b[0;34m)\u001b[0m\u001b[0;34m\u001b[0m\u001b[0;34m\u001b[0m\u001b[0m\n\u001b[0m",
            "\u001b[0;32m/usr/local/lib/python3.10/dist-packages/keras/engine/training.py\u001b[0m in \u001b[0;36msummary\u001b[0;34m(self, line_length, positions, print_fn, expand_nested, show_trainable, layer_range)\u001b[0m\n\u001b[1;32m   3227\u001b[0m         \"\"\"\n\u001b[1;32m   3228\u001b[0m         \u001b[0;32mif\u001b[0m \u001b[0;32mnot\u001b[0m \u001b[0mself\u001b[0m\u001b[0;34m.\u001b[0m\u001b[0mbuilt\u001b[0m\u001b[0;34m:\u001b[0m\u001b[0;34m\u001b[0m\u001b[0;34m\u001b[0m\u001b[0m\n\u001b[0;32m-> 3229\u001b[0;31m             raise ValueError(\n\u001b[0m\u001b[1;32m   3230\u001b[0m                 \u001b[0;34m\"This model has not yet been built. \"\u001b[0m\u001b[0;34m\u001b[0m\u001b[0;34m\u001b[0m\u001b[0m\n\u001b[1;32m   3231\u001b[0m                 \u001b[0;34m\"Build the model first by calling `build()` or by calling \"\u001b[0m\u001b[0;34m\u001b[0m\u001b[0;34m\u001b[0m\u001b[0m\n",
            "\u001b[0;31mValueError\u001b[0m: This model has not yet been built. Build the model first by calling `build()` or by calling the model on a batch of data."
          ]
        }
      ]
    },
    {
      "cell_type": "code",
      "source": [
        "# Let's create a model which builds automatically by defining the input_shape argument in the first layer\n",
        "tf.random.set_seed(42)\n",
        "\n",
        "# Create a model (same as above)\n",
        "model = tf.keras.Sequential([\n",
        "    tf.keras.layers.Dense(100,input_shape=[1],name=\"input_layer\"),\n",
        "    tf.keras.layers.Dense(1, name='output_layer')\n",
        "],name=\"model_1\")\n",
        "\n",
        "# 2. Compile the model\n",
        "model.compile(loss=tf.keras.losses.mae,\n",
        "              optimizer=tf.keras.optimizers.SGD(),\n",
        "              metrics=[\"mae\"])\n"
      ],
      "metadata": {
        "id": "AON1xIPBGCyi"
      },
      "execution_count": 87,
      "outputs": []
    },
    {
      "cell_type": "code",
      "source": [
        "model.summary()"
      ],
      "metadata": {
        "id": "KJalCSZLHIl1",
        "outputId": "c7984dd8-2cdc-44be-b2ae-6b56b85f56c0",
        "colab": {
          "base_uri": "https://localhost:8080/"
        }
      },
      "execution_count": 88,
      "outputs": [
        {
          "output_type": "stream",
          "name": "stdout",
          "text": [
            "Model: \"model_1\"\n",
            "_________________________________________________________________\n",
            " Layer (type)                Output Shape              Param #   \n",
            "=================================================================\n",
            " input_layer (Dense)         (None, 100)               200       \n",
            "                                                                 \n",
            " output_layer (Dense)        (None, 1)                 101       \n",
            "                                                                 \n",
            "=================================================================\n",
            "Total params: 301\n",
            "Trainable params: 301\n",
            "Non-trainable params: 0\n",
            "_________________________________________________________________\n"
          ]
        }
      ]
    },
    {
      "cell_type": "markdown",
      "source": [
        "* Total params - total number of parameters in the model.\n",
        "* Trainable parameters - these are the parameters (patterns) the model can update as it trains.\n",
        "* Non-trainable params -these parameters are not updated during training (this is typical when you bring in already lear patterns or prameters from other models during transfer leaning."
      ],
      "metadata": {
        "id": "0s8UyCiGHLAx"
      }
    },
    {
      "cell_type": "code",
      "source": [
        "# Let's fit our model to the training data\n",
        "model.fit(tf.expand_dims(X_train,axis=-1),y_train,epochs=100, verbose=0)"
      ],
      "metadata": {
        "id": "6Xc8oCXZIgkJ",
        "outputId": "135f727d-9fe4-415e-8f53-33d0f9986770",
        "colab": {
          "base_uri": "https://localhost:8080/"
        }
      },
      "execution_count": 89,
      "outputs": [
        {
          "output_type": "execute_result",
          "data": {
            "text/plain": [
              "<keras.callbacks.History at 0x7f60e6242740>"
            ]
          },
          "metadata": {},
          "execution_count": 89
        }
      ]
    },
    {
      "cell_type": "code",
      "source": [
        "from tensorflow.keras.utils import plot_model\n",
        "\n",
        "plot_model(model=model,show_shapes=True)"
      ],
      "metadata": {
        "id": "GvaOLE3MKTFz",
        "outputId": "ecb707c2-7be0-421a-9314-e9ae07de4dc6",
        "colab": {
          "base_uri": "https://localhost:8080/",
          "height": 312
        }
      },
      "execution_count": 90,
      "outputs": [
        {
          "output_type": "execute_result",
          "data": {
            "image/png": "[encoded data removed]",
            "text/plain": [
              "<IPython.core.display.Image object>"
            ]
          },
          "metadata": {},
          "execution_count": 90
        }
      ]
    },
    {
      "cell_type": "markdown",
      "source": [
        "### Visualising our model prediction\n",
        "\n",
        "To visualize predictions, it's a good idea to plot them against the ground truth labels.\n",
        "\n",
        "Often you'll see this in the form of `y_test` or  `y_true` versus `y_pred` (ground truth versus your model's predictions)"
      ],
      "metadata": {
        "id": "KL6pJzPAK7Ku"
      }
    },
    {
      "cell_type": "code",
      "source": [
        "# Make some predictions\n",
        "y_pred = model.predict(X_test)\n",
        "y_pred"
      ],
      "metadata": {
        "id": "9t8eIPW4MSwO",
        "outputId": "8f721e4b-fd63-43c0-abfd-7f9dd8d47f58",
        "colab": {
          "base_uri": "https://localhost:8080/"
        }
      },
      "execution_count": 91,
      "outputs": [
        {
          "output_type": "stream",
          "name": "stdout",
          "text": [
            "1/1 [==============================] - 0s 53ms/step\n"
          ]
        },
        {
          "output_type": "execute_result",
          "data": {
            "text/plain": [
              "array([[ 70.499245],\n",
              "       [ 75.08357 ],\n",
              "       [ 79.66791 ],\n",
              "       [ 84.25223 ],\n",
              "       [ 88.83656 ],\n",
              "       [ 93.42089 ],\n",
              "       [ 98.0052  ],\n",
              "       [102.58954 ],\n",
              "       [107.17387 ],\n",
              "       [111.758194]], dtype=float32)"
            ]
          },
          "metadata": {},
          "execution_count": 91
        }
      ]
    },
    {
      "cell_type": "code",
      "source": [
        "y_test"
      ],
      "metadata": {
        "id": "-zXxUuoWM9MS",
        "outputId": "6abc867e-42fe-4919-cd93-ac6b62c98e23",
        "colab": {
          "base_uri": "https://localhost:8080/"
        }
      },
      "execution_count": 92,
      "outputs": [
        {
          "output_type": "execute_result",
          "data": {
            "text/plain": [
              "<tf.Tensor: shape=(10,), dtype=int32, numpy=array([ 70,  74,  78,  82,  86,  90,  94,  98, 102, 106], dtype=int32)>"
            ]
          },
          "metadata": {},
          "execution_count": 92
        }
      ]
    },
    {
      "cell_type": "code",
      "source": [
        "# Let's create a plotting function\n",
        "def plot_prediction(train_data=X_train,\n",
        "                    train_labels=y_train,\n",
        "                    test_data=X_test,\n",
        "                    test_labels=y_test,\n",
        "                    predictions=y_pred):\n",
        "  \"\"\"\n",
        "  Plots training data, test data and compress predictions to ground truth labels\n",
        "  \"\"\"\n",
        "  plt.figure(figsize=(10,7))\n",
        "  # Plot training data in blue\n",
        "  plt.scatter(train_data, train_labels, c=\"b\", label=\"Training data\")\n",
        "  # Plot testing data in green\n",
        "  plt.scatter(test_data,test_labels,c=\"g\",label=\"Testing data\")\n",
        "  # Plot model's prediction in red\n",
        "  plt.scatter(test_data, predictions, c=\"r\", label=\"Predictions\")\n",
        "  # Show the legend\n",
        "  plt.legend();"
      ],
      "metadata": {
        "id": "qqg-DF7dNBbX"
      },
      "execution_count": 93,
      "outputs": []
    },
    {
      "cell_type": "code",
      "source": [
        "plot_prediction()"
      ],
      "metadata": {
        "id": "GxInNCaYOlMk",
        "outputId": "6056bf31-857e-42f5-acf3-bb97bec72d5d",
        "colab": {
          "base_uri": "https://localhost:8080/",
          "height": 452
        }
      },
      "execution_count": 94,
      "outputs": [
        {
          "output_type": "display_data",
          "data": {
            "text/plain": [
              "<Figure size 1000x700 with 1 Axes>"
            ],
            "image/png": "[encoded data removed]"
          },
          "metadata": {}
        }
      ]
    },
    {
      "cell_type": "markdown",
      "source": [
        "### Evaluating our models predictions with evaluation metrics\n",
        "\n",
        "Depending on the problem you're working on, there will be different evaluations metrics to evaluate your model's performance.\n",
        "\n",
        "Since we're working on a regression, two of the main metrics:\n",
        "* MAE - mean absolute error, \"on average, how wrong is each of my model's predictions\"\n",
        "* MSE - mean square error, \"square the average errors\""
      ],
      "metadata": {
        "id": "2qBcyviBOnm1"
      }
    },
    {
      "cell_type": "code",
      "source": [
        "# Evaluate the model on test set\n",
        "model.evaluate(X_test,y_test)"
      ],
      "metadata": {
        "id": "3Np8_p6OT1HC",
        "outputId": "c916fbe8-d61c-4c68-95e2-04a06ef9d37c",
        "colab": {
          "base_uri": "https://localhost:8080/"
        }
      },
      "execution_count": 95,
      "outputs": [
        {
          "output_type": "stream",
          "name": "stderr",
          "text": [
            "WARNING:tensorflow:5 out of the last 5 calls to <function Model.make_test_function.<locals>.test_function at 0x7f60e60808b0> triggered tf.function retracing. Tracing is expensive and the excessive number of tracings could be due to (1) creating @tf.function repeatedly in a loop, (2) passing tensors with different shapes, (3) passing Python objects instead of tensors. For (1), please define your @tf.function outside of the loop. For (2), @tf.function has reduce_retracing=True option that can avoid unnecessary retracing. For (3), please refer to https://www.tensorflow.org/guide/function#controlling_retracing and https://www.tensorflow.org/api_docs/python/tf/function for  more details.\n"
          ]
        },
        {
          "output_type": "stream",
          "name": "stdout",
          "text": [
            "1/1 [==============================] - 0s 117ms/step - loss: 3.1287 - mae: 3.1287\n"
          ]
        },
        {
          "output_type": "execute_result",
          "data": {
            "text/plain": [
              "[3.1287200450897217, 3.1287200450897217]"
            ]
          },
          "metadata": {},
          "execution_count": 95
        }
      ]
    },
    {
      "cell_type": "code",
      "source": [
        "# Calculate the mean absolute error\n",
        "mae = tf.metrics.mean_absolute_error(y_test,y_pred)\n",
        "mae"
      ],
      "metadata": {
        "id": "pduw1ZE4j5P3",
        "outputId": "52d0795e-4b93-4210-9cb7-cc6fce74a1c1",
        "colab": {
          "base_uri": "https://localhost:8080/"
        }
      },
      "execution_count": 96,
      "outputs": [
        {
          "output_type": "execute_result",
          "data": {
            "text/plain": [
              "<tf.Tensor: shape=(10,), dtype=float32, numpy=\n",
              "array([17.600605, 14.149857, 11.732837, 10.349554, 10.      , 10.684178,\n",
              "       12.403122, 15.271631, 19.173866, 23.758194], dtype=float32)>"
            ]
          },
          "metadata": {},
          "execution_count": 96
        }
      ]
    },
    {
      "cell_type": "code",
      "source": [
        "y_test"
      ],
      "metadata": {
        "id": "GPFXOjFTlH_I",
        "outputId": "bf3051a7-2bb5-422c-e959-05d3e5a19a96",
        "colab": {
          "base_uri": "https://localhost:8080/"
        }
      },
      "execution_count": 97,
      "outputs": [
        {
          "output_type": "execute_result",
          "data": {
            "text/plain": [
              "<tf.Tensor: shape=(10,), dtype=int32, numpy=array([ 70,  74,  78,  82,  86,  90,  94,  98, 102, 106], dtype=int32)>"
            ]
          },
          "metadata": {},
          "execution_count": 97
        }
      ]
    },
    {
      "cell_type": "code",
      "source": [
        "tf.squeeze(y_pred) # since test and pred were not of same shape(pred having extra dim)"
      ],
      "metadata": {
        "id": "DqsCmIt-lRQX",
        "outputId": "46ee7d3b-aa36-456a-80ca-dcd5d3b9c475",
        "colab": {
          "base_uri": "https://localhost:8080/"
        }
      },
      "execution_count": 98,
      "outputs": [
        {
          "output_type": "execute_result",
          "data": {
            "text/plain": [
              "<tf.Tensor: shape=(10,), dtype=float32, numpy=\n",
              "array([ 70.499245,  75.08357 ,  79.66791 ,  84.25223 ,  88.83656 ,\n",
              "        93.42089 ,  98.0052  , 102.58954 , 107.17387 , 111.758194],\n",
              "      dtype=float32)>"
            ]
          },
          "metadata": {},
          "execution_count": 98
        }
      ]
    },
    {
      "cell_type": "code",
      "source": [
        "# Calculate the mean absolute error\n",
        "mae = tf.metrics.mean_absolute_error(y_test,tf.squeeze(y_pred))\n",
        "mae"
      ],
      "metadata": {
        "id": "1bLLzk0mlgrU",
        "outputId": "06bcc8ed-ad3b-458b-a4c0-33b3432e74b8",
        "colab": {
          "base_uri": "https://localhost:8080/"
        }
      },
      "execution_count": 99,
      "outputs": [
        {
          "output_type": "execute_result",
          "data": {
            "text/plain": [
              "<tf.Tensor: shape=(), dtype=float32, numpy=3.1287208>"
            ]
          },
          "metadata": {},
          "execution_count": 99
        }
      ]
    },
    {
      "cell_type": "code",
      "source": [
        "# Calculate the mean square error\n",
        "mse = tf.metrics.mean_squared_error(y_test,tf.squeeze(y_pred))\n",
        "mse"
      ],
      "metadata": {
        "id": "OPqu3jWLlvdZ",
        "outputId": "55567a09-4c84-427b-ee2b-519d933c8811",
        "colab": {
          "base_uri": "https://localhost:8080/"
        }
      },
      "execution_count": 100,
      "outputs": [
        {
          "output_type": "execute_result",
          "data": {
            "text/plain": [
              "<tf.Tensor: shape=(), dtype=float32, numpy=12.605761>"
            ]
          },
          "metadata": {},
          "execution_count": 100
        }
      ]
    },
    {
      "cell_type": "code",
      "source": [
        "# make some functions to reuse MAE and MSE\n",
        "def mae(y_true, y_pred):\n",
        "  return tf.metrics.mean_absolute_error(y_true=y_test,\n",
        "\n",
        "                                        y_pred=y_pred)\n",
        "def mse(y_true, y_pred):\n",
        "  return tf.metrics.mean_squared_error(y_true=y_test,\n",
        "                                       y_pred=y_pred)"
      ],
      "metadata": {
        "id": "oKAWL9dKmLFj"
      },
      "execution_count": 100,
      "outputs": []
    }
  ]
}