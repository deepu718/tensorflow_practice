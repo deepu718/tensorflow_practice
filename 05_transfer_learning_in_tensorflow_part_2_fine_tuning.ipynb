{
  "nbformat": 4,
  "nbformat_minor": 0,
  "metadata": {
    "colab": {
      "provenance": [],
      "gpuType": "T4",
      "authorship_tag": "ABX9TyORpwhtCZIf5QtleqsCJDgk",
      "include_colab_link": true
    },
    "kernelspec": {
      "name": "python3",
      "display_name": "Python 3"
    },
    "language_info": {
      "name": "python"
    },
    "accelerator": "GPU"
  },
  "cells": [
    {
      "cell_type": "markdown",
      "metadata": {
        "id": "view-in-github",
        "colab_type": "text"
      },
      "source": [
        "<a href=\"https://colab.research.google.com/github/deepu718/tensorflow_practice/blob/main/05_transfer_learning_in_tensorflow_part_2_fine_tuning.ipynb\" target=\"_parent\"><img src=\"https://colab.research.google.com/assets/colab-badge.svg\" alt=\"Open In Colab\"/></a>"
      ]
    },
    {
      "cell_type": "markdown",
      "source": [
        "# Transfer learning in tensorflow part 2: Fine Tuning\n",
        "\n",
        "In the previous notebook, we covered transfer learning feature extraction, now it's time to learn about a new kind of trasnfer learning: fine-tuning"
      ],
      "metadata": {
        "id": "AyeJdAtWp9fh"
      }
    },
    {
      "cell_type": "markdown",
      "source": [
        "## Creating helper functions\n",
        "\n",
        "In previous notebooks we've created a bunch of helper functions, now we could rewrite them all, however this is tedious.\n",
        "\n",
        "So, its a good idea to put functions you'll want to use again in a script you can download and import into your notebooks (or elsewhere).\n"
      ],
      "metadata": {
        "id": "6m40RNmMq1Oo"
      }
    },
    {
      "cell_type": "code",
      "source": [
        "!wget https://raw.githubusercontent.com/mrdbourke/tensorflow-deep-learning/main/extras/helper_functions.py"
      ],
      "metadata": {
        "colab": {
          "base_uri": "https://localhost:8080/"
        },
        "id": "jx1XTR1Mrbl5",
        "outputId": "75f5018e-8003-4725-8911-af03ef9dec00"
      },
      "execution_count": 2,
      "outputs": [
        {
          "output_type": "stream",
          "name": "stdout",
          "text": [
            "--2023-08-09 14:24:12--  https://raw.githubusercontent.com/mrdbourke/tensorflow-deep-learning/main/extras/helper_functions.py\n",
            "Resolving raw.githubusercontent.com (raw.githubusercontent.com)... 185.199.108.133, 185.199.109.133, 185.199.110.133, ...\n",
            "Connecting to raw.githubusercontent.com (raw.githubusercontent.com)|185.199.108.133|:443... connected.\n",
            "HTTP request sent, awaiting response... 200 OK\n",
            "Length: 10246 (10K) [text/plain]\n",
            "Saving to: ‘helper_functions.py’\n",
            "\n",
            "\rhelper_functions.py   0%[                    ]       0  --.-KB/s               \rhelper_functions.py 100%[===================>]  10.01K  --.-KB/s    in 0s      \n",
            "\n",
            "2023-08-09 14:24:12 (116 MB/s) - ‘helper_functions.py’ saved [10246/10246]\n",
            "\n"
          ]
        }
      ]
    },
    {
      "cell_type": "code",
      "source": [
        "# Import helper functions we are going to use in this notebook\n",
        "from helper_functions import create_tensorboard_callback, plot_loss_curves, unzip_data, walk_through_dir"
      ],
      "metadata": {
        "id": "rIJgkM6OrwYh"
      },
      "execution_count": 3,
      "outputs": []
    },
    {
      "cell_type": "markdown",
      "source": [
        "## Let's get some data\n",
        "\n",
        "This time we're going to see how can we use the pretrained models within `tf.keras.applications` and apply them to our own problem (recognizing images of food)"
      ],
      "metadata": {
        "id": "l9mMveFJsiTR"
      }
    },
    {
      "cell_type": "code",
      "source": [
        "!wget https://storage.googleapis.com/ztm_tf_course/food_vision/10_food_classes_10_percent.zip"
      ],
      "metadata": {
        "colab": {
          "base_uri": "https://localhost:8080/"
        },
        "id": "13IWlbM7s515",
        "outputId": "f5b2679d-1492-4ec0-a56e-64721859b183"
      },
      "execution_count": 4,
      "outputs": [
        {
          "output_type": "stream",
          "name": "stdout",
          "text": [
            "--2023-08-09 14:32:57--  https://storage.googleapis.com/ztm_tf_course/food_vision/10_food_classes_10_percent.zip\n",
            "Resolving storage.googleapis.com (storage.googleapis.com)... 142.251.10.128, 142.251.12.128, 172.217.194.128, ...\n",
            "Connecting to storage.googleapis.com (storage.googleapis.com)|142.251.10.128|:443... connected.\n",
            "HTTP request sent, awaiting response... 200 OK\n",
            "Length: 168546183 (161M) [application/zip]\n",
            "Saving to: ‘10_food_classes_10_percent.zip’\n",
            "\n",
            "10_food_classes_10_ 100%[===================>] 160.74M  21.6MB/s    in 8.4s    \n",
            "\n",
            "2023-08-09 14:33:06 (19.1 MB/s) - ‘10_food_classes_10_percent.zip’ saved [168546183/168546183]\n",
            "\n"
          ]
        }
      ]
    },
    {
      "cell_type": "code",
      "source": [
        "unzip_data(\"10_food_classes_10_percent.zip\")"
      ],
      "metadata": {
        "id": "hW5T3ulGtwZ-"
      },
      "execution_count": 5,
      "outputs": []
    },
    {
      "cell_type": "code",
      "source": [
        "# Check out how many images and subdirectories are in our dataset\n",
        "walk_through_dir(\"10_food_classes_10_percent\")"
      ],
      "metadata": {
        "colab": {
          "base_uri": "https://localhost:8080/"
        },
        "id": "p8JDPMGKt3MT",
        "outputId": "1cec8f3f-767f-471e-f84d-d99e17db116e"
      },
      "execution_count": 6,
      "outputs": [
        {
          "output_type": "stream",
          "name": "stdout",
          "text": [
            "There are 2 directories and 0 images in '10_food_classes_10_percent'.\n",
            "There are 10 directories and 0 images in '10_food_classes_10_percent/train'.\n",
            "There are 0 directories and 75 images in '10_food_classes_10_percent/train/chicken_wings'.\n",
            "There are 0 directories and 75 images in '10_food_classes_10_percent/train/fried_rice'.\n",
            "There are 0 directories and 75 images in '10_food_classes_10_percent/train/steak'.\n",
            "There are 0 directories and 75 images in '10_food_classes_10_percent/train/ramen'.\n",
            "There are 0 directories and 75 images in '10_food_classes_10_percent/train/ice_cream'.\n",
            "There are 0 directories and 75 images in '10_food_classes_10_percent/train/chicken_curry'.\n",
            "There are 0 directories and 75 images in '10_food_classes_10_percent/train/pizza'.\n",
            "There are 0 directories and 75 images in '10_food_classes_10_percent/train/hamburger'.\n",
            "There are 0 directories and 75 images in '10_food_classes_10_percent/train/grilled_salmon'.\n",
            "There are 0 directories and 75 images in '10_food_classes_10_percent/train/sushi'.\n",
            "There are 10 directories and 0 images in '10_food_classes_10_percent/test'.\n",
            "There are 0 directories and 250 images in '10_food_classes_10_percent/test/chicken_wings'.\n",
            "There are 0 directories and 250 images in '10_food_classes_10_percent/test/fried_rice'.\n",
            "There are 0 directories and 250 images in '10_food_classes_10_percent/test/steak'.\n",
            "There are 0 directories and 250 images in '10_food_classes_10_percent/test/ramen'.\n",
            "There are 0 directories and 250 images in '10_food_classes_10_percent/test/ice_cream'.\n",
            "There are 0 directories and 250 images in '10_food_classes_10_percent/test/chicken_curry'.\n",
            "There are 0 directories and 250 images in '10_food_classes_10_percent/test/pizza'.\n",
            "There are 0 directories and 250 images in '10_food_classes_10_percent/test/hamburger'.\n",
            "There are 0 directories and 250 images in '10_food_classes_10_percent/test/grilled_salmon'.\n",
            "There are 0 directories and 250 images in '10_food_classes_10_percent/test/sushi'.\n"
          ]
        }
      ]
    },
    {
      "cell_type": "code",
      "source": [
        "# Create training and test directory paths\n",
        "train_dir = \"10_food_classes_10_percent/train\"\n",
        "test_dir = \"10_food_classes_10_percent/test\""
      ],
      "metadata": {
        "id": "UomDx2URuCsG"
      },
      "execution_count": 7,
      "outputs": []
    },
    {
      "cell_type": "code",
      "source": [
        "import tensorflow as tf\n",
        "IMG_SIZE = (224,224)\n",
        "BATCH_SIZE = 32\n",
        "train_data_10_percent = tf.keras.preprocessing.image_dataset_from_directory(directory=train_dir,\n",
        "                                                                            image_size=IMG_SIZE,\n",
        "                                                                            label_mode=\"categorical\",\n",
        "                                                                            batch_size=BATCH_SIZE)\n",
        "test_data = tf.keras.preprocessing.image_dataset_from_directory(directory=test_dir,\n",
        "                                                                image_size=IMG_SIZE,\n",
        "                                                                label_mode=\"categorical\",\n",
        "                                                                batch_size=BATCH_SIZE)"
      ],
      "metadata": {
        "colab": {
          "base_uri": "https://localhost:8080/"
        },
        "id": "YahjoR7YvTC8",
        "outputId": "8a8dc43f-e53d-436b-c814-1dced2999c4e"
      },
      "execution_count": 12,
      "outputs": [
        {
          "output_type": "stream",
          "name": "stdout",
          "text": [
            "Found 750 files belonging to 10 classes.\n",
            "Found 2500 files belonging to 10 classes.\n"
          ]
        }
      ]
    },
    {
      "cell_type": "code",
      "source": [
        "train_data_10_percent"
      ],
      "metadata": {
        "colab": {
          "base_uri": "https://localhost:8080/"
        },
        "id": "B2pOZgigwQQE",
        "outputId": "39b6f5d9-aa3c-44bd-e3a4-9dceaaa3a772"
      },
      "execution_count": 14,
      "outputs": [
        {
          "output_type": "execute_result",
          "data": {
            "text/plain": [
              "<_BatchDataset element_spec=(TensorSpec(shape=(None, 224, 224, 3), dtype=tf.float32, name=None), TensorSpec(shape=(None, 10), dtype=tf.float32, name=None))>"
            ]
          },
          "metadata": {},
          "execution_count": 14
        }
      ]
    },
    {
      "cell_type": "code",
      "source": [
        "# Check out the class names of our datasets\n",
        "train_data_10_percent.class_names"
      ],
      "metadata": {
        "colab": {
          "base_uri": "https://localhost:8080/"
        },
        "id": "4NxmG8hswVHO",
        "outputId": "64b09393-1c7f-4990-c2d3-f3832d2ff0a8"
      },
      "execution_count": 15,
      "outputs": [
        {
          "output_type": "execute_result",
          "data": {
            "text/plain": [
              "['chicken_curry',\n",
              " 'chicken_wings',\n",
              " 'fried_rice',\n",
              " 'grilled_salmon',\n",
              " 'hamburger',\n",
              " 'ice_cream',\n",
              " 'pizza',\n",
              " 'ramen',\n",
              " 'steak',\n",
              " 'sushi']"
            ]
          },
          "metadata": {},
          "execution_count": 15
        }
      ]
    },
    {
      "cell_type": "code",
      "source": [
        "# See an example of batch dataset\n",
        "for images, labels in train_data_10_percent.take(1):\n",
        "  print(images, labels)"
      ],
      "metadata": {
        "colab": {
          "base_uri": "https://localhost:8080/"
        },
        "id": "GRuiZsdYyJ9a",
        "outputId": "e8e2fb2c-449f-4814-a107-5714cd41782a"
      },
      "execution_count": 18,
      "outputs": [
        {
          "output_type": "stream",
          "name": "stdout",
          "text": [
            "tf.Tensor(\n",
            "[[[[ 95.116066    65.42586     23.407207  ]\n",
            "   [ 87.4941      57.56553     19.385363  ]\n",
            "   [ 80.30118     51.30118     17.617825  ]\n",
            "   ...\n",
            "   [ 98.53138     65.00906     24.270222  ]\n",
            "   [ 92.73884     60.667397    22.881723  ]\n",
            "   [ 85.92573     56.66457     22.66457   ]]\n",
            "\n",
            "  [[101.485176    68.77902     25.98007   ]\n",
            "   [ 90.69212     59.14062     20.183353  ]\n",
            "   [ 79.63919     50.527264    16.359375  ]\n",
            "   ...\n",
            "   [101.33124     66.33124     25.995491  ]\n",
            "   [ 92.783485    59.20105     22.030937  ]\n",
            "   [ 86.92847     56.928467    21.361504  ]]\n",
            "\n",
            "  [[109.765785    74.84837     29.600449  ]\n",
            "   [ 96.497765    64.24155     22.33833   ]\n",
            "   [ 81.4434      52.30054     15.605708  ]\n",
            "   ...\n",
            "   [109.625725    72.01412     30.319921  ]\n",
            "   [ 96.44688     62.119225    24.212515  ]\n",
            "   [ 85.46206     54.54465     18.850454  ]]\n",
            "\n",
            "  ...\n",
            "\n",
            "  [[122.24557     81.24557     28.531284  ]\n",
            "   [106.31345     65.38489     21.027744  ]\n",
            "   [106.78571     68.          29.131052  ]\n",
            "   ...\n",
            "   [168.52005    122.52005     63.52005   ]\n",
            "   [168.1629     119.1629      61.162903  ]\n",
            "   [163.59143    114.59143     58.59143   ]]\n",
            "\n",
            "  [[127.2269      86.30422     31.079565  ]\n",
            "   [108.66056     67.73199     21.374846  ]\n",
            "   [105.354904    66.56919     27.228943  ]\n",
            "   ...\n",
            "   [166.8276     120.827614    61.61335   ]\n",
            "   [164.71204    117.712036    61.712036  ]\n",
            "   [160.14645    113.14646     57.146458  ]]\n",
            "\n",
            "  [[131.07098     90.42812     33.3567    ]\n",
            "   [110.29163     70.04915     21.580975  ]\n",
            "   [103.41036     64.782974    22.575497  ]\n",
            "   ...\n",
            "   [164.10912    118.68967     59.475403  ]\n",
            "   [162.45084    116.92856     60.189697  ]\n",
            "   [158.64006    113.117775    57.85664   ]]]\n",
            "\n",
            "\n",
            " [[[110.71429    111.71429    105.71429   ]\n",
            "   [111.28571    114.28571    107.28571   ]\n",
            "   [108.505104   113.07653    106.07653   ]\n",
            "   ...\n",
            "   [154.20407    168.20407    169.20407   ]\n",
            "   [150.19382    164.19382    165.19382   ]\n",
            "   [153.72957    169.72957    169.72957   ]]\n",
            "\n",
            "  [[110.71429    111.71429    105.71429   ]\n",
            "   [109.928566   112.928566   105.928566  ]\n",
            "   [107.28571    111.85714    104.85714   ]\n",
            "   ...\n",
            "   [160.9847     171.55614    172.30103   ]\n",
            "   [159.99998    172.14284    172.21426   ]\n",
            "   [157.52042    169.66327    169.7347    ]]\n",
            "\n",
            "  [[112.21938    113.21938    107.21938   ]\n",
            "   [111.28571    114.28571    107.28571   ]\n",
            "   [107.85715    112.42857    105.42857   ]\n",
            "   ...\n",
            "   [136.85716    137.83165    137.76534   ]\n",
            "   [140.48473    140.84187    142.6276    ]\n",
            "   [137.14287    137.50002    139.28572   ]]\n",
            "\n",
            "  ...\n",
            "\n",
            "  [[160.291      171.64821    150.57677   ]\n",
            "   [171.60213    183.67365    165.74509   ]\n",
            "   [180.71432    193.59705    180.1685    ]\n",
            "   ...\n",
            "   [108.40774     37.88756     37.933475  ]\n",
            "   [ 94.67772     29.795364    32.994358  ]\n",
            "   [104.515045    42.438766    49.724472  ]]\n",
            "\n",
            "  [[175.07646    188.71931    166.79074   ]\n",
            "   [180.51532    197.4439     179.94902   ]\n",
            "   [187.18375    206.27048    196.62766   ]\n",
            "   ...\n",
            "   [ 63.82124     14.556041    14.224467  ]\n",
            "   [ 54.28036     15.494837    20.280634  ]\n",
            "   [ 45.33655     13.693822    24.05097   ]]\n",
            "\n",
            "  [[178.25044    189.20445    171.09229   ]\n",
            "   [184.30112    197.70921    186.1838    ]\n",
            "   [189.64279    206.94373    203.29587   ]\n",
            "   ...\n",
            "   [ 56.326805    17.107567    19.546354  ]\n",
            "   [ 30.632763     7.3472404   16.485199  ]\n",
            "   [ 27.407907    12.464061    26.15293   ]]]\n",
            "\n",
            "\n",
            " [[[ 42.          15.           4.        ]\n",
            "   [ 42.          15.           4.        ]\n",
            "   [ 44.214287    15.785714     4.        ]\n",
            "   ...\n",
            "   [216.21426    171.21426    132.21426   ]\n",
            "   [214.94722    169.94722    130.94722   ]\n",
            "   [214.         169.         130.        ]]\n",
            "\n",
            "  [[ 42.          15.           4.        ]\n",
            "   [ 42.78348     15.           4.        ]\n",
            "   [ 44.214287    15.785714     4.        ]\n",
            "   ...\n",
            "   [216.82988    171.82988    132.82988   ]\n",
            "   [215.         170.         131.        ]\n",
            "   [214.         169.         130.        ]]\n",
            "\n",
            "  [[ 42.          15.           4.        ]\n",
            "   [ 43.          15.           4.        ]\n",
            "   [ 44.45456     15.54544      4.        ]\n",
            "   ...\n",
            "   [217.         172.         133.        ]\n",
            "   [215.92856    170.92856    131.92856   ]\n",
            "   [214.75204    169.75204    130.75204   ]]\n",
            "\n",
            "  ...\n",
            "\n",
            "  [[ 24.269775    18.66293     18.466352  ]\n",
            "   [ 21.071428    17.071428    16.071428  ]\n",
            "   [ 14.514169    13.811688    11.234357  ]\n",
            "   ...\n",
            "   [ 39.214264    30.785736    29.        ]\n",
            "   [ 35.878963    27.878963    25.878963  ]\n",
            "   [ 30.34174     24.752043    21.948608  ]]\n",
            "\n",
            "  [[ 27.286522    21.286522    21.286522  ]\n",
            "   [ 22.51994     18.51994     17.51994   ]\n",
            "   [ 14.529504    13.958076    11.315218  ]\n",
            "   ...\n",
            "   [ 39.428528    31.          29.214264  ]\n",
            "   [ 34.84165     26.841648    24.841648  ]\n",
            "   [ 27.348963    22.348963    19.348963  ]]\n",
            "\n",
            "  [[ 30.096004    24.096004    24.096004  ]\n",
            "   [ 24.881718    20.881718    19.881718  ]\n",
            "   [ 16.086899    15.51547     12.872612  ]\n",
            "   ...\n",
            "   [ 39.586838    31.158312    29.372576  ]\n",
            "   [ 34.046814    26.046814    24.046814  ]\n",
            "   [ 25.546783    20.546783    17.546783  ]]]\n",
            "\n",
            "\n",
            " ...\n",
            "\n",
            "\n",
            " [[[213.62755    234.9847     190.91327   ]\n",
            "   [219.00002    240.00002    198.19388   ]\n",
            "   [219.07652    237.84183    199.15306   ]\n",
            "   ...\n",
            "   [ 78.9949      64.35211     53.56638   ]\n",
            "   [ 76.9133      62.913303    49.913303  ]\n",
            "   [ 76.14779     62.147793    49.147793  ]]\n",
            "\n",
            "  [[213.83675    229.9796     193.69388   ]\n",
            "   [215.92348    232.06633    195.05103   ]\n",
            "   [215.96939    231.57143    194.77042   ]\n",
            "   ...\n",
            "   [ 79.24492     63.357162    50.357162  ]\n",
            "   [ 82.34178     69.27546     53.474434  ]\n",
            "   [ 79.836876    66.836876    50.505215  ]]\n",
            "\n",
            "  [[192.46938    202.25       172.82143   ]\n",
            "   [211.43367    222.06123    188.07654   ]\n",
            "   [218.72958    230.2551     191.0153    ]\n",
            "   ...\n",
            "   [ 92.025475    74.59695     58.811207  ]\n",
            "   [ 80.5         67.51531     49.928547  ]\n",
            "   [ 75.499825    62.9284      43.28554   ]]\n",
            "\n",
            "  ...\n",
            "\n",
            "  [[204.80103    216.79594    173.15823   ]\n",
            "   [201.8672     214.2958     171.35194   ]\n",
            "   [192.71948    204.4593     164.93379   ]\n",
            "   ...\n",
            "   [152.6223     162.74474    155.21918   ]\n",
            "   [151.57141    162.60202    154.58672   ]\n",
            "   [151.07649    164.07649    154.86223   ]]\n",
            "\n",
            "  [[215.09186    230.1633     191.3317    ]\n",
            "   [197.77048    212.70924    173.92357   ]\n",
            "   [170.53572    184.53572    148.53572   ]\n",
            "   ...\n",
            "   [156.42865    165.78586    157.78586   ]\n",
            "   [157.39803    168.39803    162.39803   ]\n",
            "   [158.07162    169.07162    163.07162   ]]\n",
            "\n",
            "  [[218.32162    235.32162    200.49513   ]\n",
            "   [210.96426    227.36736    192.17355   ]\n",
            "   [188.28102    204.28102    168.06674   ]\n",
            "   ...\n",
            "   [181.94437    191.37811    183.14853   ]\n",
            "   [176.88327    187.88327    181.88327   ]\n",
            "   [163.67429    174.67429    170.67429   ]]]\n",
            "\n",
            "\n",
            " [[[ 36.72959     40.72959     42.44388   ]\n",
            "   [ 29.693876    34.66837     29.55102   ]\n",
            "   [ 36.637756    41.142857    39.05612   ]\n",
            "   ...\n",
            "   [ 20.076458    25.076458    19.076458  ]\n",
            "   [ 23.928558    28.928558    24.928558  ]\n",
            "   [ 19.586792    23.586792    22.586792  ]]\n",
            "\n",
            "  [[ 34.117348    38.117348    39.02551   ]\n",
            "   [ 31.12755     35.989796    32.403057  ]\n",
            "   [ 32.65816     36.65816     36.056126  ]\n",
            "   ...\n",
            "   [ 21.627487    26.627487    20.627487  ]\n",
            "   [ 23.785688    28.785688    24.785688  ]\n",
            "   [ 18.336775    22.336775    21.336775  ]]\n",
            "\n",
            "  [[ 29.92347     33.92347     33.07653   ]\n",
            "   [ 33.87245     37.87245     38.33163   ]\n",
            "   [ 35.663265    39.663265    38.663265  ]\n",
            "   ...\n",
            "   [ 22.214241    27.214241    21.214241  ]\n",
            "   [ 23.64283     28.64283     24.64283   ]\n",
            "   [ 20.428677    24.428677    23.428677  ]]\n",
            "\n",
            "  ...\n",
            "\n",
            "  [[ 47.38264     51.38264     50.94386   ]\n",
            "   [ 45.255066    49.255066    48.255066  ]\n",
            "   [ 47.85715     51.85715     50.85715   ]\n",
            "   ...\n",
            "   [  0.           0.           0.        ]\n",
            "   [  0.           0.           0.        ]\n",
            "   [  0.35717773   0.35717773   0.35717773]]\n",
            "\n",
            "  [[ 47.09185     52.02044     48.234673  ]\n",
            "   [ 42.795933    46.862263    45.66328   ]\n",
            "   [ 50.10207     54.10207     53.10207   ]\n",
            "   ...\n",
            "   [  0.           0.           0.        ]\n",
            "   [  0.           0.           0.        ]\n",
            "   [  0.35717773   0.35717773   0.35717773]]\n",
            "\n",
            "  [[ 40.709213    45.709213    39.709213  ]\n",
            "   [ 51.433662    56.433662    52.341827  ]\n",
            "   [ 53.29081     57.29081     56.29081   ]\n",
            "   ...\n",
            "   [  0.           0.           0.        ]\n",
            "   [  0.           0.           0.        ]\n",
            "   [  0.35717773   0.35717773   0.35717773]]]\n",
            "\n",
            "\n",
            " [[[ 28.642859    15.642858     9.642857  ]\n",
            "   [ 31.928572    18.928572    12.928572  ]\n",
            "   [ 31.780613    17.780613    14.780612  ]\n",
            "   ...\n",
            "   [ 24.989725    12.989724    15.122437  ]\n",
            "   [ 19.62238     10.433636    16.596916  ]\n",
            "   [ 14.852138     9.494995    17.566423  ]]\n",
            "\n",
            "  [[ 25.760202    12.760204     6.7602034 ]\n",
            "   [ 28.209183    14.209183    11.209183  ]\n",
            "   [ 28.62755     14.62755     11.62755   ]\n",
            "   ...\n",
            "   [ 42.525276    31.12736     26.841688  ]\n",
            "   [ 29.357092    21.499989    19.653038  ]\n",
            "   [ 23.448977    19.377548    18.73469   ]]\n",
            "\n",
            "  [[ 28.92347     18.352041    14.137755  ]\n",
            "   [ 28.071428    17.5         13.285714  ]\n",
            "   [ 27.214287    16.59694     12.520409  ]\n",
            "   ...\n",
            "   [ 58.882637    48.239845    39.239845  ]\n",
            "   [ 46.902966    38.04585     30.974407  ]\n",
            "   [ 28.851824    24.413103    18.132463  ]]\n",
            "\n",
            "  ...\n",
            "\n",
            "  [[215.71931    156.29079     66.50505   ]\n",
            "   [210.79578    151.36725     61.581505  ]\n",
            "   [193.62227    133.8111      44.88246   ]\n",
            "   ...\n",
            "   [ 44.153378    39.81667     40.985023  ]\n",
            "   [ 29.811134    25.82644     24.652943  ]\n",
            "   [ 17.020142    13.668143     7.662994  ]]\n",
            "\n",
            "  [[202.78563    147.92851     56.85708   ]\n",
            "   [198.93867    142.2142      52.07644   ]\n",
            "   [177.42851    120.428505    30.428505  ]\n",
            "   ...\n",
            "   [ 22.326288    11.724262    12.566133  ]\n",
            "   [ 19.474768    13.413534    13.265547  ]\n",
            "   [ 43.68412     41.755653    35.68412   ]]\n",
            "\n",
            "  [[194.1837     143.1837      51.183697  ]\n",
            "   [182.40802    129.40802     37.408028  ]\n",
            "   [170.58165    115.153076    24.367363  ]\n",
            "   ...\n",
            "   [ 27.036186    11.5413065   11.240366  ]\n",
            "   [ 47.26523     38.219334    38.933567  ]\n",
            "   [ 28.43797     25.922722    21.381926  ]]]], shape=(32, 224, 224, 3), dtype=float32) tf.Tensor(\n",
            "[[0. 0. 0. 0. 0. 0. 0. 0. 1. 0.]\n",
            " [0. 0. 0. 0. 1. 0. 0. 0. 0. 0.]\n",
            " [0. 0. 0. 0. 0. 1. 0. 0. 0. 0.]\n",
            " [0. 0. 0. 0. 0. 0. 0. 0. 0. 1.]\n",
            " [0. 0. 1. 0. 0. 0. 0. 0. 0. 0.]\n",
            " [0. 0. 0. 0. 0. 0. 0. 0. 1. 0.]\n",
            " [0. 0. 0. 0. 0. 0. 0. 0. 1. 0.]\n",
            " [0. 1. 0. 0. 0. 0. 0. 0. 0. 0.]\n",
            " [0. 0. 0. 0. 0. 1. 0. 0. 0. 0.]\n",
            " [0. 0. 1. 0. 0. 0. 0. 0. 0. 0.]\n",
            " [0. 0. 0. 0. 0. 0. 0. 0. 1. 0.]\n",
            " [0. 0. 0. 0. 0. 0. 0. 0. 0. 1.]\n",
            " [0. 0. 0. 1. 0. 0. 0. 0. 0. 0.]\n",
            " [0. 0. 0. 0. 0. 0. 0. 0. 0. 1.]\n",
            " [0. 0. 0. 0. 0. 1. 0. 0. 0. 0.]\n",
            " [0. 0. 0. 0. 0. 0. 0. 0. 0. 1.]\n",
            " [0. 0. 0. 0. 0. 0. 0. 1. 0. 0.]\n",
            " [0. 0. 0. 0. 0. 1. 0. 0. 0. 0.]\n",
            " [0. 0. 0. 0. 0. 0. 1. 0. 0. 0.]\n",
            " [1. 0. 0. 0. 0. 0. 0. 0. 0. 0.]\n",
            " [0. 0. 0. 0. 0. 0. 0. 1. 0. 0.]\n",
            " [0. 1. 0. 0. 0. 0. 0. 0. 0. 0.]\n",
            " [0. 0. 1. 0. 0. 0. 0. 0. 0. 0.]\n",
            " [0. 0. 0. 0. 0. 1. 0. 0. 0. 0.]\n",
            " [0. 0. 0. 0. 1. 0. 0. 0. 0. 0.]\n",
            " [1. 0. 0. 0. 0. 0. 0. 0. 0. 0.]\n",
            " [0. 0. 0. 1. 0. 0. 0. 0. 0. 0.]\n",
            " [0. 0. 0. 0. 0. 0. 1. 0. 0. 0.]\n",
            " [0. 1. 0. 0. 0. 0. 0. 0. 0. 0.]\n",
            " [1. 0. 0. 0. 0. 0. 0. 0. 0. 0.]\n",
            " [0. 0. 1. 0. 0. 0. 0. 0. 0. 0.]\n",
            " [0. 0. 0. 0. 0. 0. 0. 0. 0. 1.]], shape=(32, 10), dtype=float32)\n"
          ]
        }
      ]
    },
    {
      "cell_type": "code",
      "source": [],
      "metadata": {
        "id": "aOl4LsAkyflz"
      },
      "execution_count": null,
      "outputs": []
    }
  ]
}