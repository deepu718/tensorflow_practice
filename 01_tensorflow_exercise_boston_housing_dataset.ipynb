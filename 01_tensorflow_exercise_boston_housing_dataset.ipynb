{
  "nbformat": 4,
  "nbformat_minor": 0,
  "metadata": {
    "colab": {
      "provenance": [],
      "authorship_tag": "ABX9TyPFfVyo1XY8lgam9DHpx0Y/",
      "include_colab_link": true
    },
    "kernelspec": {
      "name": "python3",
      "display_name": "Python 3"
    },
    "language_info": {
      "name": "python"
    }
  },
  "cells": [
    {
      "cell_type": "markdown",
      "metadata": {
        "id": "view-in-github",
        "colab_type": "text"
      },
      "source": [
        "<a href=\"https://colab.research.google.com/github/deepu718/tensorflow_practice/blob/main/01_tensorflow_exercise_boston_housing_dataset.ipynb\" target=\"_parent\"><img src=\"https://colab.research.google.com/assets/colab-badge.svg\" alt=\"Open In Colab\"/></a>"
      ]
    },
    {
      "cell_type": "markdown",
      "source": [
        "### Predicting house prices using data from tensorflow"
      ],
      "metadata": {
        "id": "Ywc3ZW89YbTq"
      }
    },
    {
      "cell_type": "code",
      "source": [
        "# Import all the important libraries\n",
        "import tensorflow as tf\n",
        "import pandas as pd\n",
        "import matplotlib.pyplot as plt"
      ],
      "metadata": {
        "id": "Xvz-qGQTdMN2"
      },
      "execution_count": 1,
      "outputs": []
    },
    {
      "cell_type": "code",
      "source": [
        "# get data from tensorflow datasets\n",
        "(X_train,y_train),(X_test,y_test) = tf.keras.datasets.boston_housing.load_data(\n",
        "    path='boston_housing.npz', test_split=0.2, seed=113\n",
        ")\n",
        "X_train.shape, y_train.shape, X_test.shape, y_test.shape"
      ],
      "metadata": {
        "colab": {
          "base_uri": "https://localhost:8080/"
        },
        "id": "zTRoHPtqdjx5",
        "outputId": "a1c9db4c-48a7-4514-9bfe-615c5c7d88da"
      },
      "execution_count": 2,
      "outputs": [
        {
          "output_type": "execute_result",
          "data": {
            "text/plain": [
              "((404, 13), (404,), (102, 13), (102,))"
            ]
          },
          "metadata": {},
          "execution_count": 2
        }
      ]
    },
    {
      "cell_type": "code",
      "source": [
        "# checking input data\n",
        "X_train[:5]"
      ],
      "metadata": {
        "colab": {
          "base_uri": "https://localhost:8080/"
        },
        "id": "CkqK8VZ2jjWy",
        "outputId": "0deee135-836a-463d-ecde-c5ff1c7f0bea"
      },
      "execution_count": 14,
      "outputs": [
        {
          "output_type": "execute_result",
          "data": {
            "text/plain": [
              "array([[1.23247e+00, 0.00000e+00, 8.14000e+00, 0.00000e+00, 5.38000e-01,\n",
              "        6.14200e+00, 9.17000e+01, 3.97690e+00, 4.00000e+00, 3.07000e+02,\n",
              "        2.10000e+01, 3.96900e+02, 1.87200e+01],\n",
              "       [2.17700e-02, 8.25000e+01, 2.03000e+00, 0.00000e+00, 4.15000e-01,\n",
              "        7.61000e+00, 1.57000e+01, 6.27000e+00, 2.00000e+00, 3.48000e+02,\n",
              "        1.47000e+01, 3.95380e+02, 3.11000e+00],\n",
              "       [4.89822e+00, 0.00000e+00, 1.81000e+01, 0.00000e+00, 6.31000e-01,\n",
              "        4.97000e+00, 1.00000e+02, 1.33250e+00, 2.40000e+01, 6.66000e+02,\n",
              "        2.02000e+01, 3.75520e+02, 3.26000e+00],\n",
              "       [3.96100e-02, 0.00000e+00, 5.19000e+00, 0.00000e+00, 5.15000e-01,\n",
              "        6.03700e+00, 3.45000e+01, 5.98530e+00, 5.00000e+00, 2.24000e+02,\n",
              "        2.02000e+01, 3.96900e+02, 8.01000e+00],\n",
              "       [3.69311e+00, 0.00000e+00, 1.81000e+01, 0.00000e+00, 7.13000e-01,\n",
              "        6.37600e+00, 8.84000e+01, 2.56710e+00, 2.40000e+01, 6.66000e+02,\n",
              "        2.02000e+01, 3.91430e+02, 1.46500e+01]])"
            ]
          },
          "metadata": {},
          "execution_count": 14
        }
      ]
    },
    {
      "cell_type": "code",
      "source": [
        "# 1. Create a model\n",
        "model_1 = tf.keras.Sequential([\n",
        "    tf.keras.layers.Dense(10),\n",
        "    tf.keras.layers.Dense(1)\n",
        "])\n",
        "# 2. Compile the model\n",
        "model_1.compile(loss=tf.keras.losses.mae,\n",
        "                optimizer=tf.keras.optimizers.Adam(),\n",
        "                metrics=[\"mae\"])\n",
        "# 3. Fitting the model\n",
        "history = model_1.fit(X_train,y_train,epochs=30)"
      ],
      "metadata": {
        "colab": {
          "base_uri": "https://localhost:8080/"
        },
        "id": "RiswiT90ffkV",
        "outputId": "c993fd54-282d-446c-ef65-bcba3eec66ca"
      },
      "execution_count": 40,
      "outputs": [
        {
          "output_type": "stream",
          "name": "stdout",
          "text": [
            "Epoch 1/30\n",
            "13/13 [==============================] - 1s 2ms/step - loss: 192.0490 - mae: 192.0490\n",
            "Epoch 2/30\n",
            "13/13 [==============================] - 0s 2ms/step - loss: 132.8763 - mae: 132.8763\n",
            "Epoch 3/30\n",
            "13/13 [==============================] - 0s 2ms/step - loss: 78.3757 - mae: 78.3757\n",
            "Epoch 4/30\n",
            "13/13 [==============================] - 0s 2ms/step - loss: 45.9276 - mae: 45.9276\n",
            "Epoch 5/30\n",
            "13/13 [==============================] - 0s 2ms/step - loss: 39.3998 - mae: 39.3998\n",
            "Epoch 6/30\n",
            "13/13 [==============================] - 0s 2ms/step - loss: 34.8276 - mae: 34.8276\n",
            "Epoch 7/30\n",
            "13/13 [==============================] - 0s 2ms/step - loss: 29.2494 - mae: 29.2494\n",
            "Epoch 8/30\n",
            "13/13 [==============================] - 0s 2ms/step - loss: 23.8876 - mae: 23.8876\n",
            "Epoch 9/30\n",
            "13/13 [==============================] - 0s 3ms/step - loss: 19.1096 - mae: 19.1096\n",
            "Epoch 10/30\n",
            "13/13 [==============================] - 0s 2ms/step - loss: 14.6741 - mae: 14.6741\n",
            "Epoch 11/30\n",
            "13/13 [==============================] - 0s 2ms/step - loss: 12.1975 - mae: 12.1975\n",
            "Epoch 12/30\n",
            "13/13 [==============================] - 0s 2ms/step - loss: 11.2808 - mae: 11.2808\n",
            "Epoch 13/30\n",
            "13/13 [==============================] - 0s 2ms/step - loss: 10.7226 - mae: 10.7226\n",
            "Epoch 14/30\n",
            "13/13 [==============================] - 0s 2ms/step - loss: 10.3307 - mae: 10.3307\n",
            "Epoch 15/30\n",
            "13/13 [==============================] - 0s 2ms/step - loss: 10.0354 - mae: 10.0354\n",
            "Epoch 16/30\n",
            "13/13 [==============================] - 0s 2ms/step - loss: 9.6941 - mae: 9.6941\n",
            "Epoch 17/30\n",
            "13/13 [==============================] - 0s 2ms/step - loss: 9.3981 - mae: 9.3981\n",
            "Epoch 18/30\n",
            "13/13 [==============================] - 0s 2ms/step - loss: 8.9886 - mae: 8.9886\n",
            "Epoch 19/30\n",
            "13/13 [==============================] - 0s 2ms/step - loss: 8.6825 - mae: 8.6825\n",
            "Epoch 20/30\n",
            "13/13 [==============================] - 0s 2ms/step - loss: 8.3625 - mae: 8.3625\n",
            "Epoch 21/30\n",
            "13/13 [==============================] - 0s 3ms/step - loss: 8.0856 - mae: 8.0856\n",
            "Epoch 22/30\n",
            "13/13 [==============================] - 0s 2ms/step - loss: 7.7713 - mae: 7.7713\n",
            "Epoch 23/30\n",
            "13/13 [==============================] - 0s 2ms/step - loss: 7.5273 - mae: 7.5273\n",
            "Epoch 24/30\n",
            "13/13 [==============================] - 0s 2ms/step - loss: 7.1863 - mae: 7.1863\n",
            "Epoch 25/30\n",
            "13/13 [==============================] - 0s 2ms/step - loss: 6.9807 - mae: 6.9807\n",
            "Epoch 26/30\n",
            "13/13 [==============================] - 0s 3ms/step - loss: 6.9625 - mae: 6.9625\n",
            "Epoch 27/30\n",
            "13/13 [==============================] - 0s 2ms/step - loss: 6.6956 - mae: 6.6956\n",
            "Epoch 28/30\n",
            "13/13 [==============================] - 0s 2ms/step - loss: 6.4587 - mae: 6.4587\n",
            "Epoch 29/30\n",
            "13/13 [==============================] - 0s 2ms/step - loss: 6.1786 - mae: 6.1786\n",
            "Epoch 30/30\n",
            "13/13 [==============================] - 0s 2ms/step - loss: 6.0453 - mae: 6.0453\n"
          ]
        }
      ]
    },
    {
      "cell_type": "code",
      "source": [
        "# Evaluate the model\n",
        "model_1.evaluate(X_test,y_test)"
      ],
      "metadata": {
        "colab": {
          "base_uri": "https://localhost:8080/"
        },
        "id": "zvdEw7t1g5me",
        "outputId": "0c56dda2-18a6-41ec-a02d-3c01bd368f81"
      },
      "execution_count": 43,
      "outputs": [
        {
          "output_type": "stream",
          "name": "stdout",
          "text": [
            "4/4 [==============================] - 0s 3ms/step - loss: 6.4477 - mae: 6.4477\n"
          ]
        },
        {
          "output_type": "execute_result",
          "data": {
            "text/plain": [
              "[6.447727680206299, 6.447727680206299]"
            ]
          },
          "metadata": {},
          "execution_count": 43
        }
      ]
    },
    {
      "cell_type": "code",
      "source": [
        "pd.DataFrame(history.history).plot()\n",
        "plt.ylabel(\"loss\")\n",
        "plt.xlabel(\"epochs\")"
      ],
      "metadata": {
        "id": "wF22rtlfhqw1",
        "colab": {
          "base_uri": "https://localhost:8080/",
          "height": 469
        },
        "outputId": "a344c7e3-4abd-4553-b256-29a025f94174"
      },
      "execution_count": 41,
      "outputs": [
        {
          "output_type": "execute_result",
          "data": {
            "text/plain": [
              "Text(0.5, 0, 'epochs')"
            ]
          },
          "metadata": {},
          "execution_count": 41
        },
        {
          "output_type": "display_data",
          "data": {
            "text/plain": [
              "<Figure size 640x480 with 1 Axes>"
            ],
            "image/png": "[encoded data removed]"
          },
          "metadata": {}
        }
      ]
    },
    {
      "cell_type": "code",
      "source": [
        "y_pred = model_1.predict(X_test)\n",
        "y_pred"
      ],
      "metadata": {
        "colab": {
          "base_uri": "https://localhost:8080/"
        },
        "id": "aTZeOT_ukaZG",
        "outputId": "abd93cf0-cc04-44c6-906d-74e55153500a"
      },
      "execution_count": 44,
      "outputs": [
        {
          "output_type": "stream",
          "name": "stdout",
          "text": [
            "4/4 [==============================] - 0s 4ms/step\n"
          ]
        },
        {
          "output_type": "execute_result",
          "data": {
            "text/plain": [
              "array([[-5.6146593 ],\n",
              "       [20.609816  ],\n",
              "       [21.299393  ],\n",
              "       [23.685562  ],\n",
              "       [21.931154  ],\n",
              "       [24.953196  ],\n",
              "       [29.368431  ],\n",
              "       [24.2529    ],\n",
              "       [17.845118  ],\n",
              "       [25.42379   ],\n",
              "       [ 5.181549  ],\n",
              "       [17.471138  ],\n",
              "       [23.151426  ],\n",
              "       [22.57312   ],\n",
              "       [17.94047   ],\n",
              "       [23.471653  ],\n",
              "       [27.555887  ],\n",
              "       [24.161945  ],\n",
              "       [24.042675  ],\n",
              "       [26.229607  ],\n",
              "       [14.728338  ],\n",
              "       [ 4.3978014 ],\n",
              "       [20.085453  ],\n",
              "       [16.447224  ],\n",
              "       [27.637564  ],\n",
              "       [27.447908  ],\n",
              "       [20.18085   ],\n",
              "       [23.443024  ],\n",
              "       [ 0.31630686],\n",
              "       [26.486591  ],\n",
              "       [23.830772  ],\n",
              "       [ 3.4976852 ],\n",
              "       [28.184464  ],\n",
              "       [26.8025    ],\n",
              "       [25.165232  ],\n",
              "       [13.564352  ],\n",
              "       [16.313961  ],\n",
              "       [14.752962  ],\n",
              "       [33.421425  ],\n",
              "       [27.05609   ],\n",
              "       [18.98885   ],\n",
              "       [21.215593  ],\n",
              "       [21.39658   ],\n",
              "       [26.66761   ],\n",
              "       [19.199272  ],\n",
              "       [16.864027  ],\n",
              "       [21.793554  ],\n",
              "       [19.27491   ],\n",
              "       [25.934752  ],\n",
              "       [23.98657   ],\n",
              "       [27.56904   ],\n",
              "       [19.217293  ],\n",
              "       [17.725855  ],\n",
              "       [15.304167  ],\n",
              "       [29.097935  ],\n",
              "       [22.43458   ],\n",
              "       [19.788832  ],\n",
              "       [21.638958  ],\n",
              "       [28.659399  ],\n",
              "       [19.96721   ],\n",
              "       [26.242147  ],\n",
              "       [21.980268  ],\n",
              "       [ 8.041788  ],\n",
              "       [23.597223  ],\n",
              "       [23.834583  ],\n",
              "       [27.842676  ],\n",
              "       [16.082031  ],\n",
              "       [26.02762   ],\n",
              "       [20.32934   ],\n",
              "       [14.890091  ],\n",
              "       [24.948093  ],\n",
              "       [27.67449   ],\n",
              "       [24.892416  ],\n",
              "       [24.490778  ],\n",
              "       [25.962236  ],\n",
              "       [18.290201  ],\n",
              "       [25.33201   ],\n",
              "       [24.364069  ],\n",
              "       [23.466148  ],\n",
              "       [13.4506    ],\n",
              "       [18.97768   ],\n",
              "       [20.362534  ],\n",
              "       [17.87552   ],\n",
              "       [20.445799  ],\n",
              "       [20.941113  ],\n",
              "       [14.677149  ],\n",
              "       [23.131718  ],\n",
              "       [17.029467  ],\n",
              "       [23.89233   ],\n",
              "       [28.29983   ],\n",
              "       [13.853273  ],\n",
              "       [27.814156  ],\n",
              "       [21.288149  ],\n",
              "       [28.201944  ],\n",
              "       [24.48443   ],\n",
              "       [20.952112  ],\n",
              "       [19.131458  ],\n",
              "       [27.819052  ],\n",
              "       [30.81214   ],\n",
              "       [27.684727  ],\n",
              "       [19.81029   ],\n",
              "       [15.431637  ]], dtype=float32)"
            ]
          },
          "metadata": {},
          "execution_count": 44
        }
      ]
    },
    {
      "cell_type": "code",
      "source": [],
      "metadata": {
        "id": "oqRUnGJOlBg3"
      },
      "execution_count": null,
      "outputs": []
    }
  ]
}